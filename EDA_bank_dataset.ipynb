{
  "nbformat": 4,
  "nbformat_minor": 0,
  "metadata": {
    "colab": {
      "provenance": [],
      "toc_visible": true
    },
    "kernelspec": {
      "name": "python3",
      "display_name": "Python 3"
    },
    "language_info": {
      "name": "python"
    },
    "widgets": {
      "application/vnd.jupyter.widget-state+json": {
        "83c02fb2139d40788ffe294075612185": {
          "model_module": "@jupyter-widgets/controls",
          "model_name": "HBoxModel",
          "model_module_version": "1.5.0",
          "state": {
            "_dom_classes": [],
            "_model_module": "@jupyter-widgets/controls",
            "_model_module_version": "1.5.0",
            "_model_name": "HBoxModel",
            "_view_count": null,
            "_view_module": "@jupyter-widgets/controls",
            "_view_module_version": "1.5.0",
            "_view_name": "HBoxView",
            "box_style": "",
            "children": [
              "IPY_MODEL_af6cb79f8278466a9ba726db6ffdae55",
              "IPY_MODEL_5749f071e16e4294871d226e25e54ea2",
              "IPY_MODEL_dde370da847a4bcfa1d54951afeb72b2"
            ],
            "layout": "IPY_MODEL_205a19d4ffbd434082b2a655fbe10981"
          }
        },
        "af6cb79f8278466a9ba726db6ffdae55": {
          "model_module": "@jupyter-widgets/controls",
          "model_name": "HTMLModel",
          "model_module_version": "1.5.0",
          "state": {
            "_dom_classes": [],
            "_model_module": "@jupyter-widgets/controls",
            "_model_module_version": "1.5.0",
            "_model_name": "HTMLModel",
            "_view_count": null,
            "_view_module": "@jupyter-widgets/controls",
            "_view_module_version": "1.5.0",
            "_view_name": "HTMLView",
            "description": "",
            "description_tooltip": null,
            "layout": "IPY_MODEL_194efcd655224fb8a31fe14ae506371b",
            "placeholder": "​",
            "style": "IPY_MODEL_cc219c6857e644d9a0566d8928218c72",
            "value": "Done! Use &#x27;show&#x27; commands to display/save.   "
          }
        },
        "5749f071e16e4294871d226e25e54ea2": {
          "model_module": "@jupyter-widgets/controls",
          "model_name": "FloatProgressModel",
          "model_module_version": "1.5.0",
          "state": {
            "_dom_classes": [],
            "_model_module": "@jupyter-widgets/controls",
            "_model_module_version": "1.5.0",
            "_model_name": "FloatProgressModel",
            "_view_count": null,
            "_view_module": "@jupyter-widgets/controls",
            "_view_module_version": "1.5.0",
            "_view_name": "ProgressView",
            "bar_style": "success",
            "description": "",
            "description_tooltip": null,
            "layout": "IPY_MODEL_b6fc7b4e3f874f06a58bf43148fc86c2",
            "max": 1,
            "min": 0,
            "orientation": "horizontal",
            "style": "IPY_MODEL_f24ab585fbea41439f2b3e0559b588e6",
            "value": 1
          }
        },
        "dde370da847a4bcfa1d54951afeb72b2": {
          "model_module": "@jupyter-widgets/controls",
          "model_name": "HTMLModel",
          "model_module_version": "1.5.0",
          "state": {
            "_dom_classes": [],
            "_model_module": "@jupyter-widgets/controls",
            "_model_module_version": "1.5.0",
            "_model_name": "HTMLModel",
            "_view_count": null,
            "_view_module": "@jupyter-widgets/controls",
            "_view_module_version": "1.5.0",
            "_view_name": "HTMLView",
            "description": "",
            "description_tooltip": null,
            "layout": "IPY_MODEL_770d1428eb54415ea2eb49e3093b87fc",
            "placeholder": "​",
            "style": "IPY_MODEL_86d40f5d3e6e4233ab9a773758614d50",
            "value": " [100%]   00:01 -&gt; (00:00 left)"
          }
        },
        "205a19d4ffbd434082b2a655fbe10981": {
          "model_module": "@jupyter-widgets/base",
          "model_name": "LayoutModel",
          "model_module_version": "1.2.0",
          "state": {
            "_model_module": "@jupyter-widgets/base",
            "_model_module_version": "1.2.0",
            "_model_name": "LayoutModel",
            "_view_count": null,
            "_view_module": "@jupyter-widgets/base",
            "_view_module_version": "1.2.0",
            "_view_name": "LayoutView",
            "align_content": null,
            "align_items": null,
            "align_self": null,
            "border": null,
            "bottom": null,
            "display": "inline-flex",
            "flex": null,
            "flex_flow": "row wrap",
            "grid_area": null,
            "grid_auto_columns": null,
            "grid_auto_flow": null,
            "grid_auto_rows": null,
            "grid_column": null,
            "grid_gap": null,
            "grid_row": null,
            "grid_template_areas": null,
            "grid_template_columns": null,
            "grid_template_rows": null,
            "height": null,
            "justify_content": null,
            "justify_items": null,
            "left": null,
            "margin": null,
            "max_height": null,
            "max_width": null,
            "min_height": null,
            "min_width": null,
            "object_fit": null,
            "object_position": null,
            "order": null,
            "overflow": null,
            "overflow_x": null,
            "overflow_y": null,
            "padding": null,
            "right": null,
            "top": null,
            "visibility": null,
            "width": "100%"
          }
        },
        "194efcd655224fb8a31fe14ae506371b": {
          "model_module": "@jupyter-widgets/base",
          "model_name": "LayoutModel",
          "model_module_version": "1.2.0",
          "state": {
            "_model_module": "@jupyter-widgets/base",
            "_model_module_version": "1.2.0",
            "_model_name": "LayoutModel",
            "_view_count": null,
            "_view_module": "@jupyter-widgets/base",
            "_view_module_version": "1.2.0",
            "_view_name": "LayoutView",
            "align_content": null,
            "align_items": null,
            "align_self": null,
            "border": null,
            "bottom": null,
            "display": null,
            "flex": null,
            "flex_flow": null,
            "grid_area": null,
            "grid_auto_columns": null,
            "grid_auto_flow": null,
            "grid_auto_rows": null,
            "grid_column": null,
            "grid_gap": null,
            "grid_row": null,
            "grid_template_areas": null,
            "grid_template_columns": null,
            "grid_template_rows": null,
            "height": null,
            "justify_content": null,
            "justify_items": null,
            "left": null,
            "margin": null,
            "max_height": null,
            "max_width": null,
            "min_height": null,
            "min_width": null,
            "object_fit": null,
            "object_position": null,
            "order": null,
            "overflow": null,
            "overflow_x": null,
            "overflow_y": null,
            "padding": null,
            "right": null,
            "top": null,
            "visibility": null,
            "width": null
          }
        },
        "cc219c6857e644d9a0566d8928218c72": {
          "model_module": "@jupyter-widgets/controls",
          "model_name": "DescriptionStyleModel",
          "model_module_version": "1.5.0",
          "state": {
            "_model_module": "@jupyter-widgets/controls",
            "_model_module_version": "1.5.0",
            "_model_name": "DescriptionStyleModel",
            "_view_count": null,
            "_view_module": "@jupyter-widgets/base",
            "_view_module_version": "1.2.0",
            "_view_name": "StyleView",
            "description_width": ""
          }
        },
        "b6fc7b4e3f874f06a58bf43148fc86c2": {
          "model_module": "@jupyter-widgets/base",
          "model_name": "LayoutModel",
          "model_module_version": "1.2.0",
          "state": {
            "_model_module": "@jupyter-widgets/base",
            "_model_module_version": "1.2.0",
            "_model_name": "LayoutModel",
            "_view_count": null,
            "_view_module": "@jupyter-widgets/base",
            "_view_module_version": "1.2.0",
            "_view_name": "LayoutView",
            "align_content": null,
            "align_items": null,
            "align_self": null,
            "border": null,
            "bottom": null,
            "display": null,
            "flex": "2",
            "flex_flow": null,
            "grid_area": null,
            "grid_auto_columns": null,
            "grid_auto_flow": null,
            "grid_auto_rows": null,
            "grid_column": null,
            "grid_gap": null,
            "grid_row": null,
            "grid_template_areas": null,
            "grid_template_columns": null,
            "grid_template_rows": null,
            "height": null,
            "justify_content": null,
            "justify_items": null,
            "left": null,
            "margin": null,
            "max_height": null,
            "max_width": null,
            "min_height": null,
            "min_width": null,
            "object_fit": null,
            "object_position": null,
            "order": null,
            "overflow": null,
            "overflow_x": null,
            "overflow_y": null,
            "padding": null,
            "right": null,
            "top": null,
            "visibility": null,
            "width": null
          }
        },
        "f24ab585fbea41439f2b3e0559b588e6": {
          "model_module": "@jupyter-widgets/controls",
          "model_name": "ProgressStyleModel",
          "model_module_version": "1.5.0",
          "state": {
            "_model_module": "@jupyter-widgets/controls",
            "_model_module_version": "1.5.0",
            "_model_name": "ProgressStyleModel",
            "_view_count": null,
            "_view_module": "@jupyter-widgets/base",
            "_view_module_version": "1.2.0",
            "_view_name": "StyleView",
            "bar_color": null,
            "description_width": ""
          }
        },
        "770d1428eb54415ea2eb49e3093b87fc": {
          "model_module": "@jupyter-widgets/base",
          "model_name": "LayoutModel",
          "model_module_version": "1.2.0",
          "state": {
            "_model_module": "@jupyter-widgets/base",
            "_model_module_version": "1.2.0",
            "_model_name": "LayoutModel",
            "_view_count": null,
            "_view_module": "@jupyter-widgets/base",
            "_view_module_version": "1.2.0",
            "_view_name": "LayoutView",
            "align_content": null,
            "align_items": null,
            "align_self": null,
            "border": null,
            "bottom": null,
            "display": null,
            "flex": null,
            "flex_flow": null,
            "grid_area": null,
            "grid_auto_columns": null,
            "grid_auto_flow": null,
            "grid_auto_rows": null,
            "grid_column": null,
            "grid_gap": null,
            "grid_row": null,
            "grid_template_areas": null,
            "grid_template_columns": null,
            "grid_template_rows": null,
            "height": null,
            "justify_content": null,
            "justify_items": null,
            "left": null,
            "margin": null,
            "max_height": null,
            "max_width": null,
            "min_height": null,
            "min_width": null,
            "object_fit": null,
            "object_position": null,
            "order": null,
            "overflow": null,
            "overflow_x": null,
            "overflow_y": null,
            "padding": null,
            "right": null,
            "top": null,
            "visibility": null,
            "width": null
          }
        },
        "86d40f5d3e6e4233ab9a773758614d50": {
          "model_module": "@jupyter-widgets/controls",
          "model_name": "DescriptionStyleModel",
          "model_module_version": "1.5.0",
          "state": {
            "_model_module": "@jupyter-widgets/controls",
            "_model_module_version": "1.5.0",
            "_model_name": "DescriptionStyleModel",
            "_view_count": null,
            "_view_module": "@jupyter-widgets/base",
            "_view_module_version": "1.2.0",
            "_view_name": "StyleView",
            "description_width": ""
          }
        }
      }
    }
  },
  "cells": [
    {
      "cell_type": "markdown",
      "source": [
        "#Analisis Exploratorio de Datos (EDA)\n",
        "\n",
        "**Dataset:** \"bank_dataset.csv\"\n",
        "\n",
        "**Git**: https://github.com/Nathifer\n",
        "\n"
      ],
      "metadata": {
        "id": "t-TeGIRk_I4D"
      }
    },
    {
      "cell_type": "markdown",
      "source": [
        "## Índice\n",
        "1. [Importación de librerías](#1-importacion-de-librerias)\n",
        "2. [Carga del dataset](#2-carga-del-dataset)\n",
        "3. [Descripciones básicas del dataset](#3-descripciones-basicas-del-dataset)\n",
        "4. [Outliers y faltantes](#4-outliers-y-faltantes)\n",
        "5. [Características relevantes (Pearson)](#5-caracteristicas-relevantes)\n",
        "6. [Balance entre clases](#6-balance-entre-clases)\n",
        "7. [Conclusión](#7-conclusion)"
      ],
      "metadata": {
        "id": "JOOBSUSh9UGV"
      }
    },
    {
      "cell_type": "code",
      "execution_count": 138,
      "metadata": {
        "colab": {
          "base_uri": "https://localhost:8080/"
        },
        "id": "OtNN8dJqr_Ra",
        "outputId": "da682a6e-0e6e-4ce6-cdc9-61aee2bef1bc"
      },
      "outputs": [
        {
          "output_type": "stream",
          "name": "stdout",
          "text": [
            "Drive already mounted at /content/drive; to attempt to forcibly remount, call drive.mount(\"/content/drive\", force_remount=True).\n"
          ]
        }
      ],
      "source": [
        "from google.colab import drive\n",
        "drive.mount('/content/drive')"
      ]
    },
    {
      "cell_type": "markdown",
      "source": [
        "#1. Importacion de librerias"
      ],
      "metadata": {
        "id": "8eg82VbKtNte"
      }
    },
    {
      "cell_type": "code",
      "source": [
        "import pandas as pd\n",
        "import numpy as np\n",
        "import matplotlib.pyplot as plt\n",
        "import seaborn as sns\n",
        "!pip install sweetviz\n",
        "import sweetviz as sv"
      ],
      "metadata": {
        "colab": {
          "base_uri": "https://localhost:8080/"
        },
        "id": "OhXRMbYAs5Ca",
        "outputId": "3d712a20-6dbe-4ae0-d7f5-0ac7493ca0bd"
      },
      "execution_count": 139,
      "outputs": [
        {
          "output_type": "stream",
          "name": "stdout",
          "text": [
            "Requirement already satisfied: sweetviz in /usr/local/lib/python3.10/dist-packages (2.3.1)\n",
            "Requirement already satisfied: pandas!=1.0.0,!=1.0.1,!=1.0.2,>=0.25.3 in /usr/local/lib/python3.10/dist-packages (from sweetviz) (2.2.2)\n",
            "Requirement already satisfied: numpy>=1.16.0 in /usr/local/lib/python3.10/dist-packages (from sweetviz) (1.26.4)\n",
            "Requirement already satisfied: matplotlib>=3.1.3 in /usr/local/lib/python3.10/dist-packages (from sweetviz) (3.7.1)\n",
            "Requirement already satisfied: tqdm>=4.43.0 in /usr/local/lib/python3.10/dist-packages (from sweetviz) (4.66.5)\n",
            "Requirement already satisfied: scipy>=1.3.2 in /usr/local/lib/python3.10/dist-packages (from sweetviz) (1.13.1)\n",
            "Requirement already satisfied: jinja2>=2.11.1 in /usr/local/lib/python3.10/dist-packages (from sweetviz) (3.1.4)\n",
            "Requirement already satisfied: importlib-resources>=1.2.0 in /usr/local/lib/python3.10/dist-packages (from sweetviz) (6.4.5)\n",
            "Requirement already satisfied: MarkupSafe>=2.0 in /usr/local/lib/python3.10/dist-packages (from jinja2>=2.11.1->sweetviz) (2.1.5)\n",
            "Requirement already satisfied: contourpy>=1.0.1 in /usr/local/lib/python3.10/dist-packages (from matplotlib>=3.1.3->sweetviz) (1.3.0)\n",
            "Requirement already satisfied: cycler>=0.10 in /usr/local/lib/python3.10/dist-packages (from matplotlib>=3.1.3->sweetviz) (0.12.1)\n",
            "Requirement already satisfied: fonttools>=4.22.0 in /usr/local/lib/python3.10/dist-packages (from matplotlib>=3.1.3->sweetviz) (4.54.1)\n",
            "Requirement already satisfied: kiwisolver>=1.0.1 in /usr/local/lib/python3.10/dist-packages (from matplotlib>=3.1.3->sweetviz) (1.4.7)\n",
            "Requirement already satisfied: packaging>=20.0 in /usr/local/lib/python3.10/dist-packages (from matplotlib>=3.1.3->sweetviz) (24.1)\n",
            "Requirement already satisfied: pillow>=6.2.0 in /usr/local/lib/python3.10/dist-packages (from matplotlib>=3.1.3->sweetviz) (10.4.0)\n",
            "Requirement already satisfied: pyparsing>=2.3.1 in /usr/local/lib/python3.10/dist-packages (from matplotlib>=3.1.3->sweetviz) (3.1.4)\n",
            "Requirement already satisfied: python-dateutil>=2.7 in /usr/local/lib/python3.10/dist-packages (from matplotlib>=3.1.3->sweetviz) (2.8.2)\n",
            "Requirement already satisfied: pytz>=2020.1 in /usr/local/lib/python3.10/dist-packages (from pandas!=1.0.0,!=1.0.1,!=1.0.2,>=0.25.3->sweetviz) (2024.2)\n",
            "Requirement already satisfied: tzdata>=2022.7 in /usr/local/lib/python3.10/dist-packages (from pandas!=1.0.0,!=1.0.1,!=1.0.2,>=0.25.3->sweetviz) (2024.2)\n",
            "Requirement already satisfied: six>=1.5 in /usr/local/lib/python3.10/dist-packages (from python-dateutil>=2.7->matplotlib>=3.1.3->sweetviz) (1.16.0)\n"
          ]
        }
      ]
    },
    {
      "cell_type": "markdown",
      "source": [
        "#2. Carga del dataset"
      ],
      "metadata": {
        "id": "f0vow3qLtUtz"
      }
    },
    {
      "cell_type": "code",
      "source": [
        "bank = pd.read_csv('/content/drive/MyDrive/bank_dataset.csv')"
      ],
      "metadata": {
        "id": "9Rw8FNlvs4-t"
      },
      "execution_count": 140,
      "outputs": []
    },
    {
      "cell_type": "markdown",
      "source": [
        "#3. Descripciones basicas del dataset"
      ],
      "metadata": {
        "id": "AliqNMMttbLm"
      }
    },
    {
      "cell_type": "code",
      "source": [
        "bank.head()"
      ],
      "metadata": {
        "colab": {
          "base_uri": "https://localhost:8080/",
          "height": 206
        },
        "id": "EmzPZRN6s41m",
        "outputId": "cfa73b9d-3ed3-46ae-9bf0-b3fee8de0d2f"
      },
      "execution_count": 141,
      "outputs": [
        {
          "output_type": "execute_result",
          "data": {
            "text/plain": [
              "    age         job  marital  education default  balance housing loan  \\\n",
              "0  59.0      admin.  married  secondary      no     2343     yes   no   \n",
              "1  56.0      admin.  married  secondary      no       45      no   no   \n",
              "2  41.0  technician  married  secondary      no     1270     yes   no   \n",
              "3  55.0    services  married  secondary      no     2476     yes   no   \n",
              "4  54.0      admin.  married   tertiary      no      184      no   no   \n",
              "\n",
              "   contact  day month  duration  campaign  pdays  previous poutcome deposit  \n",
              "0  unknown    5   may      1042         1     -1         0  unknown     yes  \n",
              "1  unknown    5   may      1467         1     -1         0  unknown     yes  \n",
              "2  unknown    5   may      1389         1     -1         0  unknown     yes  \n",
              "3  unknown    5   may       579         1     -1         0  unknown     yes  \n",
              "4  unknown    5   may       673         2     -1         0  unknown     yes  "
            ],
            "text/html": [
              "\n",
              "  <div id=\"df-9de3d6fe-490e-46cd-ac8b-203c8bd62ff6\" class=\"colab-df-container\">\n",
              "    <div>\n",
              "<style scoped>\n",
              "    .dataframe tbody tr th:only-of-type {\n",
              "        vertical-align: middle;\n",
              "    }\n",
              "\n",
              "    .dataframe tbody tr th {\n",
              "        vertical-align: top;\n",
              "    }\n",
              "\n",
              "    .dataframe thead th {\n",
              "        text-align: right;\n",
              "    }\n",
              "</style>\n",
              "<table border=\"1\" class=\"dataframe\">\n",
              "  <thead>\n",
              "    <tr style=\"text-align: right;\">\n",
              "      <th></th>\n",
              "      <th>age</th>\n",
              "      <th>job</th>\n",
              "      <th>marital</th>\n",
              "      <th>education</th>\n",
              "      <th>default</th>\n",
              "      <th>balance</th>\n",
              "      <th>housing</th>\n",
              "      <th>loan</th>\n",
              "      <th>contact</th>\n",
              "      <th>day</th>\n",
              "      <th>month</th>\n",
              "      <th>duration</th>\n",
              "      <th>campaign</th>\n",
              "      <th>pdays</th>\n",
              "      <th>previous</th>\n",
              "      <th>poutcome</th>\n",
              "      <th>deposit</th>\n",
              "    </tr>\n",
              "  </thead>\n",
              "  <tbody>\n",
              "    <tr>\n",
              "      <th>0</th>\n",
              "      <td>59.0</td>\n",
              "      <td>admin.</td>\n",
              "      <td>married</td>\n",
              "      <td>secondary</td>\n",
              "      <td>no</td>\n",
              "      <td>2343</td>\n",
              "      <td>yes</td>\n",
              "      <td>no</td>\n",
              "      <td>unknown</td>\n",
              "      <td>5</td>\n",
              "      <td>may</td>\n",
              "      <td>1042</td>\n",
              "      <td>1</td>\n",
              "      <td>-1</td>\n",
              "      <td>0</td>\n",
              "      <td>unknown</td>\n",
              "      <td>yes</td>\n",
              "    </tr>\n",
              "    <tr>\n",
              "      <th>1</th>\n",
              "      <td>56.0</td>\n",
              "      <td>admin.</td>\n",
              "      <td>married</td>\n",
              "      <td>secondary</td>\n",
              "      <td>no</td>\n",
              "      <td>45</td>\n",
              "      <td>no</td>\n",
              "      <td>no</td>\n",
              "      <td>unknown</td>\n",
              "      <td>5</td>\n",
              "      <td>may</td>\n",
              "      <td>1467</td>\n",
              "      <td>1</td>\n",
              "      <td>-1</td>\n",
              "      <td>0</td>\n",
              "      <td>unknown</td>\n",
              "      <td>yes</td>\n",
              "    </tr>\n",
              "    <tr>\n",
              "      <th>2</th>\n",
              "      <td>41.0</td>\n",
              "      <td>technician</td>\n",
              "      <td>married</td>\n",
              "      <td>secondary</td>\n",
              "      <td>no</td>\n",
              "      <td>1270</td>\n",
              "      <td>yes</td>\n",
              "      <td>no</td>\n",
              "      <td>unknown</td>\n",
              "      <td>5</td>\n",
              "      <td>may</td>\n",
              "      <td>1389</td>\n",
              "      <td>1</td>\n",
              "      <td>-1</td>\n",
              "      <td>0</td>\n",
              "      <td>unknown</td>\n",
              "      <td>yes</td>\n",
              "    </tr>\n",
              "    <tr>\n",
              "      <th>3</th>\n",
              "      <td>55.0</td>\n",
              "      <td>services</td>\n",
              "      <td>married</td>\n",
              "      <td>secondary</td>\n",
              "      <td>no</td>\n",
              "      <td>2476</td>\n",
              "      <td>yes</td>\n",
              "      <td>no</td>\n",
              "      <td>unknown</td>\n",
              "      <td>5</td>\n",
              "      <td>may</td>\n",
              "      <td>579</td>\n",
              "      <td>1</td>\n",
              "      <td>-1</td>\n",
              "      <td>0</td>\n",
              "      <td>unknown</td>\n",
              "      <td>yes</td>\n",
              "    </tr>\n",
              "    <tr>\n",
              "      <th>4</th>\n",
              "      <td>54.0</td>\n",
              "      <td>admin.</td>\n",
              "      <td>married</td>\n",
              "      <td>tertiary</td>\n",
              "      <td>no</td>\n",
              "      <td>184</td>\n",
              "      <td>no</td>\n",
              "      <td>no</td>\n",
              "      <td>unknown</td>\n",
              "      <td>5</td>\n",
              "      <td>may</td>\n",
              "      <td>673</td>\n",
              "      <td>2</td>\n",
              "      <td>-1</td>\n",
              "      <td>0</td>\n",
              "      <td>unknown</td>\n",
              "      <td>yes</td>\n",
              "    </tr>\n",
              "  </tbody>\n",
              "</table>\n",
              "</div>\n",
              "    <div class=\"colab-df-buttons\">\n",
              "\n",
              "  <div class=\"colab-df-container\">\n",
              "    <button class=\"colab-df-convert\" onclick=\"convertToInteractive('df-9de3d6fe-490e-46cd-ac8b-203c8bd62ff6')\"\n",
              "            title=\"Convert this dataframe to an interactive table.\"\n",
              "            style=\"display:none;\">\n",
              "\n",
              "  <svg xmlns=\"http://www.w3.org/2000/svg\" height=\"24px\" viewBox=\"0 -960 960 960\">\n",
              "    <path d=\"M120-120v-720h720v720H120Zm60-500h600v-160H180v160Zm220 220h160v-160H400v160Zm0 220h160v-160H400v160ZM180-400h160v-160H180v160Zm440 0h160v-160H620v160ZM180-180h160v-160H180v160Zm440 0h160v-160H620v160Z\"/>\n",
              "  </svg>\n",
              "    </button>\n",
              "\n",
              "  <style>\n",
              "    .colab-df-container {\n",
              "      display:flex;\n",
              "      gap: 12px;\n",
              "    }\n",
              "\n",
              "    .colab-df-convert {\n",
              "      background-color: #E8F0FE;\n",
              "      border: none;\n",
              "      border-radius: 50%;\n",
              "      cursor: pointer;\n",
              "      display: none;\n",
              "      fill: #1967D2;\n",
              "      height: 32px;\n",
              "      padding: 0 0 0 0;\n",
              "      width: 32px;\n",
              "    }\n",
              "\n",
              "    .colab-df-convert:hover {\n",
              "      background-color: #E2EBFA;\n",
              "      box-shadow: 0px 1px 2px rgba(60, 64, 67, 0.3), 0px 1px 3px 1px rgba(60, 64, 67, 0.15);\n",
              "      fill: #174EA6;\n",
              "    }\n",
              "\n",
              "    .colab-df-buttons div {\n",
              "      margin-bottom: 4px;\n",
              "    }\n",
              "\n",
              "    [theme=dark] .colab-df-convert {\n",
              "      background-color: #3B4455;\n",
              "      fill: #D2E3FC;\n",
              "    }\n",
              "\n",
              "    [theme=dark] .colab-df-convert:hover {\n",
              "      background-color: #434B5C;\n",
              "      box-shadow: 0px 1px 3px 1px rgba(0, 0, 0, 0.15);\n",
              "      filter: drop-shadow(0px 1px 2px rgba(0, 0, 0, 0.3));\n",
              "      fill: #FFFFFF;\n",
              "    }\n",
              "  </style>\n",
              "\n",
              "    <script>\n",
              "      const buttonEl =\n",
              "        document.querySelector('#df-9de3d6fe-490e-46cd-ac8b-203c8bd62ff6 button.colab-df-convert');\n",
              "      buttonEl.style.display =\n",
              "        google.colab.kernel.accessAllowed ? 'block' : 'none';\n",
              "\n",
              "      async function convertToInteractive(key) {\n",
              "        const element = document.querySelector('#df-9de3d6fe-490e-46cd-ac8b-203c8bd62ff6');\n",
              "        const dataTable =\n",
              "          await google.colab.kernel.invokeFunction('convertToInteractive',\n",
              "                                                    [key], {});\n",
              "        if (!dataTable) return;\n",
              "\n",
              "        const docLinkHtml = 'Like what you see? Visit the ' +\n",
              "          '<a target=\"_blank\" href=https://colab.research.google.com/notebooks/data_table.ipynb>data table notebook</a>'\n",
              "          + ' to learn more about interactive tables.';\n",
              "        element.innerHTML = '';\n",
              "        dataTable['output_type'] = 'display_data';\n",
              "        await google.colab.output.renderOutput(dataTable, element);\n",
              "        const docLink = document.createElement('div');\n",
              "        docLink.innerHTML = docLinkHtml;\n",
              "        element.appendChild(docLink);\n",
              "      }\n",
              "    </script>\n",
              "  </div>\n",
              "\n",
              "\n",
              "<div id=\"df-b3cf15e0-d477-4955-97c1-da20941d0fcb\">\n",
              "  <button class=\"colab-df-quickchart\" onclick=\"quickchart('df-b3cf15e0-d477-4955-97c1-da20941d0fcb')\"\n",
              "            title=\"Suggest charts\"\n",
              "            style=\"display:none;\">\n",
              "\n",
              "<svg xmlns=\"http://www.w3.org/2000/svg\" height=\"24px\"viewBox=\"0 0 24 24\"\n",
              "     width=\"24px\">\n",
              "    <g>\n",
              "        <path d=\"M19 3H5c-1.1 0-2 .9-2 2v14c0 1.1.9 2 2 2h14c1.1 0 2-.9 2-2V5c0-1.1-.9-2-2-2zM9 17H7v-7h2v7zm4 0h-2V7h2v10zm4 0h-2v-4h2v4z\"/>\n",
              "    </g>\n",
              "</svg>\n",
              "  </button>\n",
              "\n",
              "<style>\n",
              "  .colab-df-quickchart {\n",
              "      --bg-color: #E8F0FE;\n",
              "      --fill-color: #1967D2;\n",
              "      --hover-bg-color: #E2EBFA;\n",
              "      --hover-fill-color: #174EA6;\n",
              "      --disabled-fill-color: #AAA;\n",
              "      --disabled-bg-color: #DDD;\n",
              "  }\n",
              "\n",
              "  [theme=dark] .colab-df-quickchart {\n",
              "      --bg-color: #3B4455;\n",
              "      --fill-color: #D2E3FC;\n",
              "      --hover-bg-color: #434B5C;\n",
              "      --hover-fill-color: #FFFFFF;\n",
              "      --disabled-bg-color: #3B4455;\n",
              "      --disabled-fill-color: #666;\n",
              "  }\n",
              "\n",
              "  .colab-df-quickchart {\n",
              "    background-color: var(--bg-color);\n",
              "    border: none;\n",
              "    border-radius: 50%;\n",
              "    cursor: pointer;\n",
              "    display: none;\n",
              "    fill: var(--fill-color);\n",
              "    height: 32px;\n",
              "    padding: 0;\n",
              "    width: 32px;\n",
              "  }\n",
              "\n",
              "  .colab-df-quickchart:hover {\n",
              "    background-color: var(--hover-bg-color);\n",
              "    box-shadow: 0 1px 2px rgba(60, 64, 67, 0.3), 0 1px 3px 1px rgba(60, 64, 67, 0.15);\n",
              "    fill: var(--button-hover-fill-color);\n",
              "  }\n",
              "\n",
              "  .colab-df-quickchart-complete:disabled,\n",
              "  .colab-df-quickchart-complete:disabled:hover {\n",
              "    background-color: var(--disabled-bg-color);\n",
              "    fill: var(--disabled-fill-color);\n",
              "    box-shadow: none;\n",
              "  }\n",
              "\n",
              "  .colab-df-spinner {\n",
              "    border: 2px solid var(--fill-color);\n",
              "    border-color: transparent;\n",
              "    border-bottom-color: var(--fill-color);\n",
              "    animation:\n",
              "      spin 1s steps(1) infinite;\n",
              "  }\n",
              "\n",
              "  @keyframes spin {\n",
              "    0% {\n",
              "      border-color: transparent;\n",
              "      border-bottom-color: var(--fill-color);\n",
              "      border-left-color: var(--fill-color);\n",
              "    }\n",
              "    20% {\n",
              "      border-color: transparent;\n",
              "      border-left-color: var(--fill-color);\n",
              "      border-top-color: var(--fill-color);\n",
              "    }\n",
              "    30% {\n",
              "      border-color: transparent;\n",
              "      border-left-color: var(--fill-color);\n",
              "      border-top-color: var(--fill-color);\n",
              "      border-right-color: var(--fill-color);\n",
              "    }\n",
              "    40% {\n",
              "      border-color: transparent;\n",
              "      border-right-color: var(--fill-color);\n",
              "      border-top-color: var(--fill-color);\n",
              "    }\n",
              "    60% {\n",
              "      border-color: transparent;\n",
              "      border-right-color: var(--fill-color);\n",
              "    }\n",
              "    80% {\n",
              "      border-color: transparent;\n",
              "      border-right-color: var(--fill-color);\n",
              "      border-bottom-color: var(--fill-color);\n",
              "    }\n",
              "    90% {\n",
              "      border-color: transparent;\n",
              "      border-bottom-color: var(--fill-color);\n",
              "    }\n",
              "  }\n",
              "</style>\n",
              "\n",
              "  <script>\n",
              "    async function quickchart(key) {\n",
              "      const quickchartButtonEl =\n",
              "        document.querySelector('#' + key + ' button');\n",
              "      quickchartButtonEl.disabled = true;  // To prevent multiple clicks.\n",
              "      quickchartButtonEl.classList.add('colab-df-spinner');\n",
              "      try {\n",
              "        const charts = await google.colab.kernel.invokeFunction(\n",
              "            'suggestCharts', [key], {});\n",
              "      } catch (error) {\n",
              "        console.error('Error during call to suggestCharts:', error);\n",
              "      }\n",
              "      quickchartButtonEl.classList.remove('colab-df-spinner');\n",
              "      quickchartButtonEl.classList.add('colab-df-quickchart-complete');\n",
              "    }\n",
              "    (() => {\n",
              "      let quickchartButtonEl =\n",
              "        document.querySelector('#df-b3cf15e0-d477-4955-97c1-da20941d0fcb button');\n",
              "      quickchartButtonEl.style.display =\n",
              "        google.colab.kernel.accessAllowed ? 'block' : 'none';\n",
              "    })();\n",
              "  </script>\n",
              "</div>\n",
              "\n",
              "    </div>\n",
              "  </div>\n"
            ],
            "application/vnd.google.colaboratory.intrinsic+json": {
              "type": "dataframe",
              "variable_name": "bank",
              "summary": "{\n  \"name\": \"bank\",\n  \"rows\": 11162,\n  \"fields\": [\n    {\n      \"column\": \"age\",\n      \"properties\": {\n        \"dtype\": \"number\",\n        \"std\": 11.914934487732625,\n        \"min\": 18.0,\n        \"max\": 95.0,\n        \"num_unique_values\": 76,\n        \"samples\": [\n          54.0,\n          47.0,\n          30.0\n        ],\n        \"semantic_type\": \"\",\n        \"description\": \"\"\n      }\n    },\n    {\n      \"column\": \"job\",\n      \"properties\": {\n        \"dtype\": \"category\",\n        \"num_unique_values\": 12,\n        \"samples\": [\n          \"self-employed\",\n          \"unknown\",\n          \"admin.\"\n        ],\n        \"semantic_type\": \"\",\n        \"description\": \"\"\n      }\n    },\n    {\n      \"column\": \"marital\",\n      \"properties\": {\n        \"dtype\": \"category\",\n        \"num_unique_values\": 3,\n        \"samples\": [\n          \"married\",\n          \"single\",\n          \"divorced\"\n        ],\n        \"semantic_type\": \"\",\n        \"description\": \"\"\n      }\n    },\n    {\n      \"column\": \"education\",\n      \"properties\": {\n        \"dtype\": \"category\",\n        \"num_unique_values\": 4,\n        \"samples\": [\n          \"tertiary\",\n          \"unknown\",\n          \"secondary\"\n        ],\n        \"semantic_type\": \"\",\n        \"description\": \"\"\n      }\n    },\n    {\n      \"column\": \"default\",\n      \"properties\": {\n        \"dtype\": \"category\",\n        \"num_unique_values\": 2,\n        \"samples\": [\n          \"yes\",\n          \"no\"\n        ],\n        \"semantic_type\": \"\",\n        \"description\": \"\"\n      }\n    },\n    {\n      \"column\": \"balance\",\n      \"properties\": {\n        \"dtype\": \"number\",\n        \"std\": 3225,\n        \"min\": -6847,\n        \"max\": 81204,\n        \"num_unique_values\": 3805,\n        \"samples\": [\n          3026,\n          1792\n        ],\n        \"semantic_type\": \"\",\n        \"description\": \"\"\n      }\n    },\n    {\n      \"column\": \"housing\",\n      \"properties\": {\n        \"dtype\": \"category\",\n        \"num_unique_values\": 2,\n        \"samples\": [\n          \"no\",\n          \"yes\"\n        ],\n        \"semantic_type\": \"\",\n        \"description\": \"\"\n      }\n    },\n    {\n      \"column\": \"loan\",\n      \"properties\": {\n        \"dtype\": \"category\",\n        \"num_unique_values\": 2,\n        \"samples\": [\n          \"yes\",\n          \"no\"\n        ],\n        \"semantic_type\": \"\",\n        \"description\": \"\"\n      }\n    },\n    {\n      \"column\": \"contact\",\n      \"properties\": {\n        \"dtype\": \"category\",\n        \"num_unique_values\": 3,\n        \"samples\": [\n          \"unknown\",\n          \"cellular\"\n        ],\n        \"semantic_type\": \"\",\n        \"description\": \"\"\n      }\n    },\n    {\n      \"column\": \"day\",\n      \"properties\": {\n        \"dtype\": \"number\",\n        \"std\": 8,\n        \"min\": 1,\n        \"max\": 31,\n        \"num_unique_values\": 31,\n        \"samples\": [\n          10,\n          27\n        ],\n        \"semantic_type\": \"\",\n        \"description\": \"\"\n      }\n    },\n    {\n      \"column\": \"month\",\n      \"properties\": {\n        \"dtype\": \"category\",\n        \"num_unique_values\": 12,\n        \"samples\": [\n          \"apr\",\n          \"mar\"\n        ],\n        \"semantic_type\": \"\",\n        \"description\": \"\"\n      }\n    },\n    {\n      \"column\": \"duration\",\n      \"properties\": {\n        \"dtype\": \"number\",\n        \"std\": 347,\n        \"min\": 2,\n        \"max\": 3881,\n        \"num_unique_values\": 1428,\n        \"samples\": [\n          597,\n          346\n        ],\n        \"semantic_type\": \"\",\n        \"description\": \"\"\n      }\n    },\n    {\n      \"column\": \"campaign\",\n      \"properties\": {\n        \"dtype\": \"number\",\n        \"std\": 2,\n        \"min\": 1,\n        \"max\": 63,\n        \"num_unique_values\": 36,\n        \"samples\": [\n          31,\n          7\n        ],\n        \"semantic_type\": \"\",\n        \"description\": \"\"\n      }\n    },\n    {\n      \"column\": \"pdays\",\n      \"properties\": {\n        \"dtype\": \"number\",\n        \"std\": 108,\n        \"min\": -1,\n        \"max\": 854,\n        \"num_unique_values\": 472,\n        \"samples\": [\n          294,\n          148\n        ],\n        \"semantic_type\": \"\",\n        \"description\": \"\"\n      }\n    },\n    {\n      \"column\": \"previous\",\n      \"properties\": {\n        \"dtype\": \"number\",\n        \"std\": 2,\n        \"min\": 0,\n        \"max\": 58,\n        \"num_unique_values\": 34,\n        \"samples\": [\n          30,\n          14\n        ],\n        \"semantic_type\": \"\",\n        \"description\": \"\"\n      }\n    },\n    {\n      \"column\": \"poutcome\",\n      \"properties\": {\n        \"dtype\": \"category\",\n        \"num_unique_values\": 4,\n        \"samples\": [\n          \"other\",\n          \"success\"\n        ],\n        \"semantic_type\": \"\",\n        \"description\": \"\"\n      }\n    },\n    {\n      \"column\": \"deposit\",\n      \"properties\": {\n        \"dtype\": \"category\",\n        \"num_unique_values\": 2,\n        \"samples\": [\n          \"no\",\n          \"yes\"\n        ],\n        \"semantic_type\": \"\",\n        \"description\": \"\"\n      }\n    }\n  ]\n}"
            }
          },
          "metadata": {},
          "execution_count": 141
        }
      ]
    },
    {
      "cell_type": "code",
      "source": [
        "bank.info()"
      ],
      "metadata": {
        "colab": {
          "base_uri": "https://localhost:8080/"
        },
        "id": "zWLrsJ5RtXp2",
        "outputId": "731ea68a-8448-4380-fa96-f1cda7e69200"
      },
      "execution_count": 142,
      "outputs": [
        {
          "output_type": "stream",
          "name": "stdout",
          "text": [
            "<class 'pandas.core.frame.DataFrame'>\n",
            "RangeIndex: 11162 entries, 0 to 11161\n",
            "Data columns (total 17 columns):\n",
            " #   Column     Non-Null Count  Dtype  \n",
            "---  ------     --------------  -----  \n",
            " 0   age        11152 non-null  float64\n",
            " 1   job        11162 non-null  object \n",
            " 2   marital    11157 non-null  object \n",
            " 3   education  11155 non-null  object \n",
            " 4   default    11162 non-null  object \n",
            " 5   balance    11162 non-null  int64  \n",
            " 6   housing    11162 non-null  object \n",
            " 7   loan       11162 non-null  object \n",
            " 8   contact    11162 non-null  object \n",
            " 9   day        11162 non-null  int64  \n",
            " 10  month      11162 non-null  object \n",
            " 11  duration   11162 non-null  int64  \n",
            " 12  campaign   11162 non-null  int64  \n",
            " 13  pdays      11162 non-null  int64  \n",
            " 14  previous   11162 non-null  int64  \n",
            " 15  poutcome   11162 non-null  object \n",
            " 16  deposit    11162 non-null  object \n",
            "dtypes: float64(1), int64(6), object(10)\n",
            "memory usage: 1.4+ MB\n"
          ]
        }
      ]
    },
    {
      "cell_type": "code",
      "source": [
        "bank.describe()"
      ],
      "metadata": {
        "colab": {
          "base_uri": "https://localhost:8080/",
          "height": 300
        },
        "id": "yqjw1Jrgtlh_",
        "outputId": "c34fe6f7-ee9a-4350-b6a3-c54d3e780e43"
      },
      "execution_count": 143,
      "outputs": [
        {
          "output_type": "execute_result",
          "data": {
            "text/plain": [
              "                age       balance           day      duration      campaign  \\\n",
              "count  11152.000000  11162.000000  11162.000000  11162.000000  11162.000000   \n",
              "mean      41.235384   1528.538524     15.658036    371.993818      2.508421   \n",
              "std       11.914934   3225.413326      8.420740    347.128386      2.722077   \n",
              "min       18.000000  -6847.000000      1.000000      2.000000      1.000000   \n",
              "25%       32.000000    122.000000      8.000000    138.000000      1.000000   \n",
              "50%       39.000000    550.000000     15.000000    255.000000      2.000000   \n",
              "75%       49.000000   1708.000000     22.000000    496.000000      3.000000   \n",
              "max       95.000000  81204.000000     31.000000   3881.000000     63.000000   \n",
              "\n",
              "              pdays      previous  \n",
              "count  11162.000000  11162.000000  \n",
              "mean      51.330407      0.832557  \n",
              "std      108.758282      2.292007  \n",
              "min       -1.000000      0.000000  \n",
              "25%       -1.000000      0.000000  \n",
              "50%       -1.000000      0.000000  \n",
              "75%       20.750000      1.000000  \n",
              "max      854.000000     58.000000  "
            ],
            "text/html": [
              "\n",
              "  <div id=\"df-a2dea1b3-bc89-4891-9bac-c21250651d94\" class=\"colab-df-container\">\n",
              "    <div>\n",
              "<style scoped>\n",
              "    .dataframe tbody tr th:only-of-type {\n",
              "        vertical-align: middle;\n",
              "    }\n",
              "\n",
              "    .dataframe tbody tr th {\n",
              "        vertical-align: top;\n",
              "    }\n",
              "\n",
              "    .dataframe thead th {\n",
              "        text-align: right;\n",
              "    }\n",
              "</style>\n",
              "<table border=\"1\" class=\"dataframe\">\n",
              "  <thead>\n",
              "    <tr style=\"text-align: right;\">\n",
              "      <th></th>\n",
              "      <th>age</th>\n",
              "      <th>balance</th>\n",
              "      <th>day</th>\n",
              "      <th>duration</th>\n",
              "      <th>campaign</th>\n",
              "      <th>pdays</th>\n",
              "      <th>previous</th>\n",
              "    </tr>\n",
              "  </thead>\n",
              "  <tbody>\n",
              "    <tr>\n",
              "      <th>count</th>\n",
              "      <td>11152.000000</td>\n",
              "      <td>11162.000000</td>\n",
              "      <td>11162.000000</td>\n",
              "      <td>11162.000000</td>\n",
              "      <td>11162.000000</td>\n",
              "      <td>11162.000000</td>\n",
              "      <td>11162.000000</td>\n",
              "    </tr>\n",
              "    <tr>\n",
              "      <th>mean</th>\n",
              "      <td>41.235384</td>\n",
              "      <td>1528.538524</td>\n",
              "      <td>15.658036</td>\n",
              "      <td>371.993818</td>\n",
              "      <td>2.508421</td>\n",
              "      <td>51.330407</td>\n",
              "      <td>0.832557</td>\n",
              "    </tr>\n",
              "    <tr>\n",
              "      <th>std</th>\n",
              "      <td>11.914934</td>\n",
              "      <td>3225.413326</td>\n",
              "      <td>8.420740</td>\n",
              "      <td>347.128386</td>\n",
              "      <td>2.722077</td>\n",
              "      <td>108.758282</td>\n",
              "      <td>2.292007</td>\n",
              "    </tr>\n",
              "    <tr>\n",
              "      <th>min</th>\n",
              "      <td>18.000000</td>\n",
              "      <td>-6847.000000</td>\n",
              "      <td>1.000000</td>\n",
              "      <td>2.000000</td>\n",
              "      <td>1.000000</td>\n",
              "      <td>-1.000000</td>\n",
              "      <td>0.000000</td>\n",
              "    </tr>\n",
              "    <tr>\n",
              "      <th>25%</th>\n",
              "      <td>32.000000</td>\n",
              "      <td>122.000000</td>\n",
              "      <td>8.000000</td>\n",
              "      <td>138.000000</td>\n",
              "      <td>1.000000</td>\n",
              "      <td>-1.000000</td>\n",
              "      <td>0.000000</td>\n",
              "    </tr>\n",
              "    <tr>\n",
              "      <th>50%</th>\n",
              "      <td>39.000000</td>\n",
              "      <td>550.000000</td>\n",
              "      <td>15.000000</td>\n",
              "      <td>255.000000</td>\n",
              "      <td>2.000000</td>\n",
              "      <td>-1.000000</td>\n",
              "      <td>0.000000</td>\n",
              "    </tr>\n",
              "    <tr>\n",
              "      <th>75%</th>\n",
              "      <td>49.000000</td>\n",
              "      <td>1708.000000</td>\n",
              "      <td>22.000000</td>\n",
              "      <td>496.000000</td>\n",
              "      <td>3.000000</td>\n",
              "      <td>20.750000</td>\n",
              "      <td>1.000000</td>\n",
              "    </tr>\n",
              "    <tr>\n",
              "      <th>max</th>\n",
              "      <td>95.000000</td>\n",
              "      <td>81204.000000</td>\n",
              "      <td>31.000000</td>\n",
              "      <td>3881.000000</td>\n",
              "      <td>63.000000</td>\n",
              "      <td>854.000000</td>\n",
              "      <td>58.000000</td>\n",
              "    </tr>\n",
              "  </tbody>\n",
              "</table>\n",
              "</div>\n",
              "    <div class=\"colab-df-buttons\">\n",
              "\n",
              "  <div class=\"colab-df-container\">\n",
              "    <button class=\"colab-df-convert\" onclick=\"convertToInteractive('df-a2dea1b3-bc89-4891-9bac-c21250651d94')\"\n",
              "            title=\"Convert this dataframe to an interactive table.\"\n",
              "            style=\"display:none;\">\n",
              "\n",
              "  <svg xmlns=\"http://www.w3.org/2000/svg\" height=\"24px\" viewBox=\"0 -960 960 960\">\n",
              "    <path d=\"M120-120v-720h720v720H120Zm60-500h600v-160H180v160Zm220 220h160v-160H400v160Zm0 220h160v-160H400v160ZM180-400h160v-160H180v160Zm440 0h160v-160H620v160ZM180-180h160v-160H180v160Zm440 0h160v-160H620v160Z\"/>\n",
              "  </svg>\n",
              "    </button>\n",
              "\n",
              "  <style>\n",
              "    .colab-df-container {\n",
              "      display:flex;\n",
              "      gap: 12px;\n",
              "    }\n",
              "\n",
              "    .colab-df-convert {\n",
              "      background-color: #E8F0FE;\n",
              "      border: none;\n",
              "      border-radius: 50%;\n",
              "      cursor: pointer;\n",
              "      display: none;\n",
              "      fill: #1967D2;\n",
              "      height: 32px;\n",
              "      padding: 0 0 0 0;\n",
              "      width: 32px;\n",
              "    }\n",
              "\n",
              "    .colab-df-convert:hover {\n",
              "      background-color: #E2EBFA;\n",
              "      box-shadow: 0px 1px 2px rgba(60, 64, 67, 0.3), 0px 1px 3px 1px rgba(60, 64, 67, 0.15);\n",
              "      fill: #174EA6;\n",
              "    }\n",
              "\n",
              "    .colab-df-buttons div {\n",
              "      margin-bottom: 4px;\n",
              "    }\n",
              "\n",
              "    [theme=dark] .colab-df-convert {\n",
              "      background-color: #3B4455;\n",
              "      fill: #D2E3FC;\n",
              "    }\n",
              "\n",
              "    [theme=dark] .colab-df-convert:hover {\n",
              "      background-color: #434B5C;\n",
              "      box-shadow: 0px 1px 3px 1px rgba(0, 0, 0, 0.15);\n",
              "      filter: drop-shadow(0px 1px 2px rgba(0, 0, 0, 0.3));\n",
              "      fill: #FFFFFF;\n",
              "    }\n",
              "  </style>\n",
              "\n",
              "    <script>\n",
              "      const buttonEl =\n",
              "        document.querySelector('#df-a2dea1b3-bc89-4891-9bac-c21250651d94 button.colab-df-convert');\n",
              "      buttonEl.style.display =\n",
              "        google.colab.kernel.accessAllowed ? 'block' : 'none';\n",
              "\n",
              "      async function convertToInteractive(key) {\n",
              "        const element = document.querySelector('#df-a2dea1b3-bc89-4891-9bac-c21250651d94');\n",
              "        const dataTable =\n",
              "          await google.colab.kernel.invokeFunction('convertToInteractive',\n",
              "                                                    [key], {});\n",
              "        if (!dataTable) return;\n",
              "\n",
              "        const docLinkHtml = 'Like what you see? Visit the ' +\n",
              "          '<a target=\"_blank\" href=https://colab.research.google.com/notebooks/data_table.ipynb>data table notebook</a>'\n",
              "          + ' to learn more about interactive tables.';\n",
              "        element.innerHTML = '';\n",
              "        dataTable['output_type'] = 'display_data';\n",
              "        await google.colab.output.renderOutput(dataTable, element);\n",
              "        const docLink = document.createElement('div');\n",
              "        docLink.innerHTML = docLinkHtml;\n",
              "        element.appendChild(docLink);\n",
              "      }\n",
              "    </script>\n",
              "  </div>\n",
              "\n",
              "\n",
              "<div id=\"df-a00f4a72-2467-48ff-985d-6a367c09b842\">\n",
              "  <button class=\"colab-df-quickchart\" onclick=\"quickchart('df-a00f4a72-2467-48ff-985d-6a367c09b842')\"\n",
              "            title=\"Suggest charts\"\n",
              "            style=\"display:none;\">\n",
              "\n",
              "<svg xmlns=\"http://www.w3.org/2000/svg\" height=\"24px\"viewBox=\"0 0 24 24\"\n",
              "     width=\"24px\">\n",
              "    <g>\n",
              "        <path d=\"M19 3H5c-1.1 0-2 .9-2 2v14c0 1.1.9 2 2 2h14c1.1 0 2-.9 2-2V5c0-1.1-.9-2-2-2zM9 17H7v-7h2v7zm4 0h-2V7h2v10zm4 0h-2v-4h2v4z\"/>\n",
              "    </g>\n",
              "</svg>\n",
              "  </button>\n",
              "\n",
              "<style>\n",
              "  .colab-df-quickchart {\n",
              "      --bg-color: #E8F0FE;\n",
              "      --fill-color: #1967D2;\n",
              "      --hover-bg-color: #E2EBFA;\n",
              "      --hover-fill-color: #174EA6;\n",
              "      --disabled-fill-color: #AAA;\n",
              "      --disabled-bg-color: #DDD;\n",
              "  }\n",
              "\n",
              "  [theme=dark] .colab-df-quickchart {\n",
              "      --bg-color: #3B4455;\n",
              "      --fill-color: #D2E3FC;\n",
              "      --hover-bg-color: #434B5C;\n",
              "      --hover-fill-color: #FFFFFF;\n",
              "      --disabled-bg-color: #3B4455;\n",
              "      --disabled-fill-color: #666;\n",
              "  }\n",
              "\n",
              "  .colab-df-quickchart {\n",
              "    background-color: var(--bg-color);\n",
              "    border: none;\n",
              "    border-radius: 50%;\n",
              "    cursor: pointer;\n",
              "    display: none;\n",
              "    fill: var(--fill-color);\n",
              "    height: 32px;\n",
              "    padding: 0;\n",
              "    width: 32px;\n",
              "  }\n",
              "\n",
              "  .colab-df-quickchart:hover {\n",
              "    background-color: var(--hover-bg-color);\n",
              "    box-shadow: 0 1px 2px rgba(60, 64, 67, 0.3), 0 1px 3px 1px rgba(60, 64, 67, 0.15);\n",
              "    fill: var(--button-hover-fill-color);\n",
              "  }\n",
              "\n",
              "  .colab-df-quickchart-complete:disabled,\n",
              "  .colab-df-quickchart-complete:disabled:hover {\n",
              "    background-color: var(--disabled-bg-color);\n",
              "    fill: var(--disabled-fill-color);\n",
              "    box-shadow: none;\n",
              "  }\n",
              "\n",
              "  .colab-df-spinner {\n",
              "    border: 2px solid var(--fill-color);\n",
              "    border-color: transparent;\n",
              "    border-bottom-color: var(--fill-color);\n",
              "    animation:\n",
              "      spin 1s steps(1) infinite;\n",
              "  }\n",
              "\n",
              "  @keyframes spin {\n",
              "    0% {\n",
              "      border-color: transparent;\n",
              "      border-bottom-color: var(--fill-color);\n",
              "      border-left-color: var(--fill-color);\n",
              "    }\n",
              "    20% {\n",
              "      border-color: transparent;\n",
              "      border-left-color: var(--fill-color);\n",
              "      border-top-color: var(--fill-color);\n",
              "    }\n",
              "    30% {\n",
              "      border-color: transparent;\n",
              "      border-left-color: var(--fill-color);\n",
              "      border-top-color: var(--fill-color);\n",
              "      border-right-color: var(--fill-color);\n",
              "    }\n",
              "    40% {\n",
              "      border-color: transparent;\n",
              "      border-right-color: var(--fill-color);\n",
              "      border-top-color: var(--fill-color);\n",
              "    }\n",
              "    60% {\n",
              "      border-color: transparent;\n",
              "      border-right-color: var(--fill-color);\n",
              "    }\n",
              "    80% {\n",
              "      border-color: transparent;\n",
              "      border-right-color: var(--fill-color);\n",
              "      border-bottom-color: var(--fill-color);\n",
              "    }\n",
              "    90% {\n",
              "      border-color: transparent;\n",
              "      border-bottom-color: var(--fill-color);\n",
              "    }\n",
              "  }\n",
              "</style>\n",
              "\n",
              "  <script>\n",
              "    async function quickchart(key) {\n",
              "      const quickchartButtonEl =\n",
              "        document.querySelector('#' + key + ' button');\n",
              "      quickchartButtonEl.disabled = true;  // To prevent multiple clicks.\n",
              "      quickchartButtonEl.classList.add('colab-df-spinner');\n",
              "      try {\n",
              "        const charts = await google.colab.kernel.invokeFunction(\n",
              "            'suggestCharts', [key], {});\n",
              "      } catch (error) {\n",
              "        console.error('Error during call to suggestCharts:', error);\n",
              "      }\n",
              "      quickchartButtonEl.classList.remove('colab-df-spinner');\n",
              "      quickchartButtonEl.classList.add('colab-df-quickchart-complete');\n",
              "    }\n",
              "    (() => {\n",
              "      let quickchartButtonEl =\n",
              "        document.querySelector('#df-a00f4a72-2467-48ff-985d-6a367c09b842 button');\n",
              "      quickchartButtonEl.style.display =\n",
              "        google.colab.kernel.accessAllowed ? 'block' : 'none';\n",
              "    })();\n",
              "  </script>\n",
              "</div>\n",
              "\n",
              "    </div>\n",
              "  </div>\n"
            ],
            "application/vnd.google.colaboratory.intrinsic+json": {
              "type": "dataframe",
              "summary": "{\n  \"name\": \"bank\",\n  \"rows\": 8,\n  \"fields\": [\n    {\n      \"column\": \"age\",\n      \"properties\": {\n        \"dtype\": \"number\",\n        \"std\": 3928.4553668368912,\n        \"min\": 11.914934487732625,\n        \"max\": 11152.0,\n        \"num_unique_values\": 8,\n        \"samples\": [\n          41.235383787661405,\n          39.0,\n          11152.0\n        ],\n        \"semantic_type\": \"\",\n        \"description\": \"\"\n      }\n    },\n    {\n      \"column\": \"balance\",\n      \"properties\": {\n        \"dtype\": \"number\",\n        \"std\": 28556.871708269126,\n        \"min\": -6847.0,\n        \"max\": 81204.0,\n        \"num_unique_values\": 8,\n        \"samples\": [\n          1528.5385235620856,\n          550.0,\n          11162.0\n        ],\n        \"semantic_type\": \"\",\n        \"description\": \"\"\n      }\n    },\n    {\n      \"column\": \"day\",\n      \"properties\": {\n        \"dtype\": \"number\",\n        \"std\": 3941.2684170092043,\n        \"min\": 1.0,\n        \"max\": 11162.0,\n        \"num_unique_values\": 8,\n        \"samples\": [\n          15.658036194230425,\n          15.0,\n          11162.0\n        ],\n        \"semantic_type\": \"\",\n        \"description\": \"\"\n      }\n    },\n    {\n      \"column\": \"duration\",\n      \"properties\": {\n        \"dtype\": \"number\",\n        \"std\": 3883.583794535372,\n        \"min\": 2.0,\n        \"max\": 11162.0,\n        \"num_unique_values\": 8,\n        \"samples\": [\n          371.99381831213043,\n          255.0,\n          11162.0\n        ],\n        \"semantic_type\": \"\",\n        \"description\": \"\"\n      }\n    },\n    {\n      \"column\": \"campaign\",\n      \"properties\": {\n        \"dtype\": \"number\",\n        \"std\": 3942.62101077111,\n        \"min\": 1.0,\n        \"max\": 11162.0,\n        \"num_unique_values\": 7,\n        \"samples\": [\n          11162.0,\n          2.508421429851281,\n          3.0\n        ],\n        \"semantic_type\": \"\",\n        \"description\": \"\"\n      }\n    },\n    {\n      \"column\": \"pdays\",\n      \"properties\": {\n        \"dtype\": \"number\",\n        \"std\": 3905.0927186956947,\n        \"min\": -1.0,\n        \"max\": 11162.0,\n        \"num_unique_values\": 6,\n        \"samples\": [\n          11162.0,\n          51.33040673714388,\n          854.0\n        ],\n        \"semantic_type\": \"\",\n        \"description\": \"\"\n      }\n    },\n    {\n      \"column\": \"previous\",\n      \"properties\": {\n        \"dtype\": \"number\",\n        \"std\": 3943.2762559943403,\n        \"min\": 0.0,\n        \"max\": 11162.0,\n        \"num_unique_values\": 6,\n        \"samples\": [\n          11162.0,\n          0.8325568894463358,\n          58.0\n        ],\n        \"semantic_type\": \"\",\n        \"description\": \"\"\n      }\n    }\n  ]\n}"
            }
          },
          "metadata": {},
          "execution_count": 143
        }
      ]
    },
    {
      "cell_type": "code",
      "source": [
        "bank.hist(bins=30, figsize=(15, 10))\n",
        "plt.show()"
      ],
      "metadata": {
        "colab": {
          "base_uri": "https://localhost:8080/",
          "height": 847
        },
        "id": "Okx_m9Cftlfm",
        "outputId": "6e326d78-a405-4e4a-fae1-17e0b94765e4"
      },
      "execution_count": 144,
      "outputs": [
        {
          "output_type": "display_data",
          "data": {
            "text/plain": [
              "<Figure size 1500x1000 with 9 Axes>"
            ],
            "image/png": "[encoded data removed]"
          },
          "metadata": {}
        }
      ]
    },
    {
      "cell_type": "markdown",
      "source": [
        "Debido al desplazamiento  que se observa del eje X en algunos de los histogramas hacemos una comprobacion de los posibles outliers. Por Ejemplo, utilizamos la variable previour para saber cual es el valor maximo y comprobar la posible existencia de valores outliers."
      ],
      "metadata": {
        "id": "2m4S7AaqB4me"
      }
    },
    {
      "cell_type": "code",
      "source": [
        "max_previous = bank['previous'].max()\n",
        "max_previous"
      ],
      "metadata": {
        "colab": {
          "base_uri": "https://localhost:8080/"
        },
        "id": "aB5LdjgW_-SA",
        "outputId": "307ed121-4daa-4a0d-9c79-6563eda7a134"
      },
      "execution_count": 145,
      "outputs": [
        {
          "output_type": "execute_result",
          "data": {
            "text/plain": [
              "58"
            ]
          },
          "metadata": {},
          "execution_count": 145
        }
      ]
    },
    {
      "cell_type": "markdown",
      "source": [
        "# Datos Faltantes y Outliers"
      ],
      "metadata": {
        "id": "eo3ZpfSf8ZlE"
      }
    },
    {
      "cell_type": "markdown",
      "source": [
        "###Outliers"
      ],
      "metadata": {
        "id": "SxnJJjozCbSs"
      }
    },
    {
      "cell_type": "code",
      "source": [
        "# Seleccionar solo las columnas numéricas\n",
        "df_numerical = bank.select_dtypes(include=['float64', 'int64'])\n",
        "\n",
        "# Crear la figura y los ejes (3x3)\n",
        "fig, axes = plt.subplots(3, 3, figsize=(15, 10))  # Tamaño ajustable\n",
        "\n",
        "# Aplanar la matriz de ejes para facilitar la iteración\n",
        "axes = axes.flatten()\n",
        "\n",
        "# Crear un boxplot para cada variable numérica en su respectivo subplot\n",
        "for i, column in enumerate(df_numerical.columns):\n",
        "    sns.boxplot(x=df_numerical[column], ax=axes[i])\n",
        "    axes[i].set_title(f'{column}', fontsize=12)\n",
        "\n",
        "# Ocultar los subplots vacíos si no tienes 9 variables\n",
        "for j in range(i + 1, 9):\n",
        "    axes[j].axis('off')  # Ocultar ejes vacíos\n",
        "\n",
        "# Ajustar el espacio entre los subplots\n",
        "plt.tight_layout()\n",
        "\n",
        "# Mostrar los gráficos\n",
        "plt.show()"
      ],
      "metadata": {
        "colab": {
          "base_uri": "https://localhost:8080/",
          "height": 1000
        },
        "id": "bBFNWQJMBPDe",
        "outputId": "4d5f7ebc-fb09-4f4a-80b1-4a0289ada3e6"
      },
      "execution_count": 146,
      "outputs": [
        {
          "output_type": "stream",
          "name": "stderr",
          "text": [
            "/usr/local/lib/python3.10/dist-packages/seaborn/categorical.py:640: FutureWarning: SeriesGroupBy.grouper is deprecated and will be removed in a future version of pandas.\n",
            "  positions = grouped.grouper.result_index.to_numpy(dtype=float)\n",
            "/usr/local/lib/python3.10/dist-packages/seaborn/categorical.py:640: FutureWarning: SeriesGroupBy.grouper is deprecated and will be removed in a future version of pandas.\n",
            "  positions = grouped.grouper.result_index.to_numpy(dtype=float)\n",
            "/usr/local/lib/python3.10/dist-packages/seaborn/categorical.py:640: FutureWarning: SeriesGroupBy.grouper is deprecated and will be removed in a future version of pandas.\n",
            "  positions = grouped.grouper.result_index.to_numpy(dtype=float)\n",
            "/usr/local/lib/python3.10/dist-packages/seaborn/categorical.py:640: FutureWarning: SeriesGroupBy.grouper is deprecated and will be removed in a future version of pandas.\n",
            "  positions = grouped.grouper.result_index.to_numpy(dtype=float)\n",
            "/usr/local/lib/python3.10/dist-packages/seaborn/categorical.py:640: FutureWarning: SeriesGroupBy.grouper is deprecated and will be removed in a future version of pandas.\n",
            "  positions = grouped.grouper.result_index.to_numpy(dtype=float)\n",
            "/usr/local/lib/python3.10/dist-packages/seaborn/categorical.py:640: FutureWarning: SeriesGroupBy.grouper is deprecated and will be removed in a future version of pandas.\n",
            "  positions = grouped.grouper.result_index.to_numpy(dtype=float)\n",
            "/usr/local/lib/python3.10/dist-packages/seaborn/categorical.py:640: FutureWarning: SeriesGroupBy.grouper is deprecated and will be removed in a future version of pandas.\n",
            "  positions = grouped.grouper.result_index.to_numpy(dtype=float)\n"
          ]
        },
        {
          "output_type": "display_data",
          "data": {
            "text/plain": [
              "<Figure size 1500x1000 with 9 Axes>"
            ],
            "image/png": "[encoded data removed]"
          },
          "metadata": {}
        }
      ]
    },
    {
      "cell_type": "code",
      "source": [],
      "metadata": {
        "id": "Hw8dg1vvXVAB"
      },
      "execution_count": null,
      "outputs": []
    },
    {
      "cell_type": "markdown",
      "source": [
        "###Valores faltantes"
      ],
      "metadata": {
        "id": "iJJqjZb__yL_"
      }
    },
    {
      "cell_type": "code",
      "source": [
        "bank.isnull().sum()"
      ],
      "metadata": {
        "colab": {
          "base_uri": "https://localhost:8080/",
          "height": 617
        },
        "id": "nwT7rxFX_fR5",
        "outputId": "10ac38e6-6d46-4f62-9097-a62dae00fc40"
      },
      "execution_count": 147,
      "outputs": [
        {
          "output_type": "execute_result",
          "data": {
            "text/plain": [
              "age          10\n",
              "job           0\n",
              "marital       5\n",
              "education     7\n",
              "default       0\n",
              "balance       0\n",
              "housing       0\n",
              "loan          0\n",
              "contact       0\n",
              "day           0\n",
              "month         0\n",
              "duration      0\n",
              "campaign      0\n",
              "pdays         0\n",
              "previous      0\n",
              "poutcome      0\n",
              "deposit       0\n",
              "dtype: int64"
            ],
            "text/html": [
              "<div>\n",
              "<style scoped>\n",
              "    .dataframe tbody tr th:only-of-type {\n",
              "        vertical-align: middle;\n",
              "    }\n",
              "\n",
              "    .dataframe tbody tr th {\n",
              "        vertical-align: top;\n",
              "    }\n",
              "\n",
              "    .dataframe thead th {\n",
              "        text-align: right;\n",
              "    }\n",
              "</style>\n",
              "<table border=\"1\" class=\"dataframe\">\n",
              "  <thead>\n",
              "    <tr style=\"text-align: right;\">\n",
              "      <th></th>\n",
              "      <th>0</th>\n",
              "    </tr>\n",
              "  </thead>\n",
              "  <tbody>\n",
              "    <tr>\n",
              "      <th>age</th>\n",
              "      <td>10</td>\n",
              "    </tr>\n",
              "    <tr>\n",
              "      <th>job</th>\n",
              "      <td>0</td>\n",
              "    </tr>\n",
              "    <tr>\n",
              "      <th>marital</th>\n",
              "      <td>5</td>\n",
              "    </tr>\n",
              "    <tr>\n",
              "      <th>education</th>\n",
              "      <td>7</td>\n",
              "    </tr>\n",
              "    <tr>\n",
              "      <th>default</th>\n",
              "      <td>0</td>\n",
              "    </tr>\n",
              "    <tr>\n",
              "      <th>balance</th>\n",
              "      <td>0</td>\n",
              "    </tr>\n",
              "    <tr>\n",
              "      <th>housing</th>\n",
              "      <td>0</td>\n",
              "    </tr>\n",
              "    <tr>\n",
              "      <th>loan</th>\n",
              "      <td>0</td>\n",
              "    </tr>\n",
              "    <tr>\n",
              "      <th>contact</th>\n",
              "      <td>0</td>\n",
              "    </tr>\n",
              "    <tr>\n",
              "      <th>day</th>\n",
              "      <td>0</td>\n",
              "    </tr>\n",
              "    <tr>\n",
              "      <th>month</th>\n",
              "      <td>0</td>\n",
              "    </tr>\n",
              "    <tr>\n",
              "      <th>duration</th>\n",
              "      <td>0</td>\n",
              "    </tr>\n",
              "    <tr>\n",
              "      <th>campaign</th>\n",
              "      <td>0</td>\n",
              "    </tr>\n",
              "    <tr>\n",
              "      <th>pdays</th>\n",
              "      <td>0</td>\n",
              "    </tr>\n",
              "    <tr>\n",
              "      <th>previous</th>\n",
              "      <td>0</td>\n",
              "    </tr>\n",
              "    <tr>\n",
              "      <th>poutcome</th>\n",
              "      <td>0</td>\n",
              "    </tr>\n",
              "    <tr>\n",
              "      <th>deposit</th>\n",
              "      <td>0</td>\n",
              "    </tr>\n",
              "  </tbody>\n",
              "</table>\n",
              "</div><br><label><b>dtype:</b> int64</label>"
            ]
          },
          "metadata": {},
          "execution_count": 147
        }
      ]
    },
    {
      "cell_type": "code",
      "source": [
        "# Filtrar filas con valores nulos\n",
        "filas_con_nulos = bank[bank.isnull().any(axis=1)]\n",
        "print(filas_con_nulos)"
      ],
      "metadata": {
        "colab": {
          "base_uri": "https://localhost:8080/"
        },
        "id": "8gK8u9QPEQHs",
        "outputId": "c3216fb0-1498-4b6e-b86b-4a491ad4480d"
      },
      "execution_count": 148,
      "outputs": [
        {
          "output_type": "stream",
          "name": "stdout",
          "text": [
            "        age           job   marital  education default  balance housing loan  \\\n",
            "1088   53.0    management       NaN  secondary      no     1004      no  yes   \n",
            "1181    NaN    management   married   tertiary      no      309     yes   no   \n",
            "1300   37.0    technician   married        NaN      no      549      no   no   \n",
            "1410    NaN   blue-collar   married    primary      no     4979      no   no   \n",
            "2943   24.0       student    single        NaN      no      382      no   no   \n",
            "3719   68.0       retired       NaN  secondary      no     4189      no   no   \n",
            "4019    NaN      services    single  secondary      no     1934      no   no   \n",
            "4737   37.0    management    single        NaN      no      102     yes   no   \n",
            "4854   34.0    management       NaN   tertiary      no        5      no   no   \n",
            "5680    NaN    technician    single   tertiary      no      720      no   no   \n",
            "6701   60.0        admin.       NaN    primary      no     -444      no  yes   \n",
            "6763    NaN    technician    single   tertiary      no      686     yes   no   \n",
            "6819   32.0      services   married        NaN      no     -344      no  yes   \n",
            "7121   57.0  entrepreneur   married        NaN      no      657      no   no   \n",
            "8419    NaN   blue-collar   married  secondary      no     1782     yes   no   \n",
            "8592   55.0    management    single        NaN      no      797      no   no   \n",
            "9272   30.0   blue-collar       NaN    primary      no       35     yes   no   \n",
            "9406   32.0    technician    single        NaN      no      696      no  yes   \n",
            "9470    NaN    management   married   tertiary      no      552      no   no   \n",
            "9552    NaN        admin.   married  secondary      no     1648     yes   no   \n",
            "9751    NaN      services   married    primary      no     2567     yes   no   \n",
            "10678   NaN    technician  divorced   tertiary      no        0     yes   no   \n",
            "\n",
            "         contact  day month  duration  campaign  pdays  previous poutcome  \\\n",
            "1088   telephone   22   dec       119         1     -1         0  unknown   \n",
            "1181    cellular    5   feb       676         1     -1         0  unknown   \n",
            "1300    cellular    2   mar       239         1     -1         0  unknown   \n",
            "1410   telephone    6   apr       180         1     -1         0  unknown   \n",
            "2943    cellular   13   nov       256         2     92         3  failure   \n",
            "3719   telephone   14   jul       897         2     -1         0  unknown   \n",
            "4019    cellular   29   sep       271         1     -1         0  unknown   \n",
            "4737    cellular    6   may       445         1    258         2  failure   \n",
            "4854    cellular   18   aug       370         2     -1         0  unknown   \n",
            "5680    cellular   12   aug       234         4     -1         0  unknown   \n",
            "6701    cellular   16   jul       227         1     -1         0  unknown   \n",
            "6763     unknown   30   may        98         2     -1         0  unknown   \n",
            "6819    cellular    4   feb        44         1     -1         0  unknown   \n",
            "7121     unknown   12   jun       344         1     -1         0  unknown   \n",
            "8419     unknown   19   jun       549         1     -1         0  unknown   \n",
            "8592    cellular   29   jul        24         2     -1         0  unknown   \n",
            "9272    cellular   11   jul       366         2     -1         0  unknown   \n",
            "9406    cellular   13   aug       101         4    105         4  failure   \n",
            "9470    cellular   28   jul       761         8     -1         0  unknown   \n",
            "9552    cellular   19   nov       172         3     -1         0  unknown   \n",
            "9751    cellular   14   may       109         1    360         2  failure   \n",
            "10678   cellular    2   jun        72         1     -1         0  unknown   \n",
            "\n",
            "      deposit  \n",
            "1088      yes  \n",
            "1181      yes  \n",
            "1300      yes  \n",
            "1410      yes  \n",
            "2943      yes  \n",
            "3719      yes  \n",
            "4019      yes  \n",
            "4737      yes  \n",
            "4854      yes  \n",
            "5680       no  \n",
            "6701       no  \n",
            "6763       no  \n",
            "6819       no  \n",
            "7121       no  \n",
            "8419       no  \n",
            "8592       no  \n",
            "9272       no  \n",
            "9406       no  \n",
            "9470       no  \n",
            "9552       no  \n",
            "9751       no  \n",
            "10678      no  \n"
          ]
        }
      ]
    },
    {
      "cell_type": "code",
      "source": [
        "valores_unicos_marital = bank['marital'].unique()\n",
        "valores_unicos_marital"
      ],
      "metadata": {
        "colab": {
          "base_uri": "https://localhost:8080/"
        },
        "id": "FfCm6CglR0g4",
        "outputId": "3f708515-5842-4701-cbe2-7584c574d355"
      },
      "execution_count": 149,
      "outputs": [
        {
          "output_type": "execute_result",
          "data": {
            "text/plain": [
              "array(['married', 'single', 'divorced', nan], dtype=object)"
            ]
          },
          "metadata": {},
          "execution_count": 149
        }
      ]
    },
    {
      "cell_type": "code",
      "source": [
        "# Filtrar filas donde 'marital' es nulo\n",
        "filas_con_nulos = bank[bank['marital'].isnull()]\n",
        "\n",
        "# Imprimir las filas con valores nulos en 'marital'\n",
        "print(filas_con_nulos)"
      ],
      "metadata": {
        "colab": {
          "base_uri": "https://localhost:8080/"
        },
        "id": "VZEwi1rMS7Xq",
        "outputId": "ff0fcc01-1e62-4ab1-e5a6-3255ff6dd5d6"
      },
      "execution_count": 150,
      "outputs": [
        {
          "output_type": "stream",
          "name": "stdout",
          "text": [
            "       age          job marital  education default  balance housing loan  \\\n",
            "1088  53.0   management     NaN  secondary      no     1004      no  yes   \n",
            "3719  68.0      retired     NaN  secondary      no     4189      no   no   \n",
            "4854  34.0   management     NaN   tertiary      no        5      no   no   \n",
            "6701  60.0       admin.     NaN    primary      no     -444      no  yes   \n",
            "9272  30.0  blue-collar     NaN    primary      no       35     yes   no   \n",
            "\n",
            "        contact  day month  duration  campaign  pdays  previous poutcome  \\\n",
            "1088  telephone   22   dec       119         1     -1         0  unknown   \n",
            "3719  telephone   14   jul       897         2     -1         0  unknown   \n",
            "4854   cellular   18   aug       370         2     -1         0  unknown   \n",
            "6701   cellular   16   jul       227         1     -1         0  unknown   \n",
            "9272   cellular   11   jul       366         2     -1         0  unknown   \n",
            "\n",
            "     deposit  \n",
            "1088     yes  \n",
            "3719     yes  \n",
            "4854     yes  \n",
            "6701      no  \n",
            "9272      no  \n"
          ]
        }
      ]
    },
    {
      "cell_type": "markdown",
      "source": [
        "Se calcula la media y moda para las variables que tiene nulos y poder imputar estos valores faltantes."
      ],
      "metadata": {
        "id": "o6jwYkvzE_dJ"
      }
    },
    {
      "cell_type": "code",
      "source": [
        "# Calcular la media de 'age' para cada combinación de 'job', 'marital', 'education', y 'balance'\n",
        "age_mean = bank.groupby(['job', 'marital', 'education'])['age'].mean().reset_index(name='mean_age')\n",
        "print(age_mean)\n",
        "# Calcular la moda (la categoría más frecuente) de 'marital' para cada combinación\n",
        "marital_mode = bank.groupby(['job', 'age', 'education'])['marital'].agg(lambda x: x.mode()[0] if not x.mode().empty else None).reset_index(name='mode_marital')\n",
        "print(marital_mode)\n",
        "# Calcular la moda de 'education' para cada combinación\n",
        "education_mode = bank.groupby(['job', 'age', 'marital'])['education'].agg(lambda x: x.mode()[0] if not x.mode().empty else None).reset_index(name='mode_education')\n",
        "print(education_mode)"
      ],
      "metadata": {
        "colab": {
          "base_uri": "https://localhost:8080/"
        },
        "id": "YZxLYiUoE4up",
        "outputId": "ed931382-2889-4f89-aaf0-6e9fbb32921d"
      },
      "execution_count": 151,
      "outputs": [
        {
          "output_type": "stream",
          "name": "stdout",
          "text": [
            "         job   marital  education   mean_age\n",
            "0     admin.  divorced    primary  42.500000\n",
            "1     admin.  divorced  secondary  43.201220\n",
            "2     admin.  divorced   tertiary  37.000000\n",
            "3     admin.  divorced    unknown  50.000000\n",
            "4     admin.   married    primary  49.666667\n",
            "..       ...       ...        ...        ...\n",
            "127  unknown   married   tertiary  49.400000\n",
            "128  unknown   married    unknown  54.071429\n",
            "129  unknown    single  secondary  33.833333\n",
            "130  unknown    single   tertiary  38.250000\n",
            "131  unknown    single    unknown  37.555556\n",
            "\n",
            "[132 rows x 4 columns]\n",
            "          job   age  education mode_marital\n",
            "0      admin.  20.0  secondary       single\n",
            "1      admin.  21.0  secondary       single\n",
            "2      admin.  22.0  secondary       single\n",
            "3      admin.  22.0   tertiary       single\n",
            "4      admin.  23.0  secondary       single\n",
            "...       ...   ...        ...          ...\n",
            "1370  unknown  60.0    unknown      married\n",
            "1371  unknown  65.0    unknown      married\n",
            "1372  unknown  67.0   tertiary      married\n",
            "1373  unknown  77.0    unknown      married\n",
            "1374  unknown  78.0    unknown      married\n",
            "\n",
            "[1375 rows x 4 columns]\n",
            "          job   age  marital mode_education\n",
            "0      admin.  20.0   single      secondary\n",
            "1      admin.  21.0   single      secondary\n",
            "2      admin.  22.0   single      secondary\n",
            "3      admin.  23.0  married      secondary\n",
            "4      admin.  23.0   single      secondary\n",
            "...       ...   ...      ...            ...\n",
            "1133  unknown  60.0  married        unknown\n",
            "1134  unknown  65.0  married        unknown\n",
            "1135  unknown  67.0  married       tertiary\n",
            "1136  unknown  77.0  married        unknown\n",
            "1137  unknown  78.0  married        unknown\n",
            "\n",
            "[1138 rows x 4 columns]\n"
          ]
        }
      ]
    },
    {
      "cell_type": "markdown",
      "source": [
        "Se imputan los valores media y moda calculados anteriormente"
      ],
      "metadata": {
        "id": "H4dDqKLeNpeD"
      }
    },
    {
      "cell_type": "code",
      "source": [
        "# Imputar la media para 'age'\n",
        "for index, row in bank[bank['age'].isnull()].iterrows():\n",
        "    mean_age = age_mean.loc[\n",
        "        (age_mean['job'] == row['job']) &\n",
        "        (age_mean['marital'] == row['marital']) &\n",
        "        (age_mean['education'] == row['education']) , 'mean_age'\n",
        "    ]\n",
        "\n",
        "    if not mean_age.empty:\n",
        "        bank.at[index, 'age'] = mean_age.values[0]\n",
        "\n",
        "# Imputar la moda para 'education'\n",
        "for index, row in bank[bank['education'].isnull()].iterrows():\n",
        "    mode_education = education_mode.loc[\n",
        "        (education_mode['job'] == row['job']) &\n",
        "        (education_mode['age'] == row['age']) &\n",
        "        (education_mode['marital'] == row['marital']), 'mode_education'\n",
        "    ]\n",
        "\n",
        "    if not mode_education.empty:\n",
        "        bank.at[index, 'education'] = mode_education.values[0]\n",
        "\n",
        "# Imputar la moda para 'marital'\n",
        "for index, row in bank[bank['marital'].isnull()].iterrows():\n",
        "    mode_marital = marital_mode.loc[\n",
        "        (marital_mode['job'] == row['job']) &\n",
        "        (marital_mode['age'] == row['age']) &\n",
        "        (marital_mode['education'] == row['education']), 'mode_marital'\n",
        "    ]\n",
        "\n",
        "    if not mode_marital.empty:\n",
        "        bank.at[index, 'marital'] = mode_marital.values[0]"
      ],
      "metadata": {
        "id": "VCI0d7w0NbD5"
      },
      "execution_count": 152,
      "outputs": []
    },
    {
      "cell_type": "code",
      "source": [
        "# Verificar los valores nulos después de la imputación\n",
        "print(\"Valores nulos en 'age' después de imputar:\", bank['age'].isnull().sum())\n",
        "print(\"Valores nulos en 'marital' después de imputar:\", bank['marital'].isnull().sum())\n",
        "print(\"Valores nulos en 'education' después de imputar:\", bank['education'].isnull().sum())"
      ],
      "metadata": {
        "colab": {
          "base_uri": "https://localhost:8080/"
        },
        "id": "KpYe_W0cPCr7",
        "outputId": "eeb0db35-664d-44f0-a99b-30dbd3f4218e"
      },
      "execution_count": 153,
      "outputs": [
        {
          "output_type": "stream",
          "name": "stdout",
          "text": [
            "Valores nulos en 'age' después de imputar: 0\n",
            "Valores nulos en 'marital' después de imputar: 1\n",
            "Valores nulos en 'education' después de imputar: 0\n"
          ]
        }
      ]
    },
    {
      "cell_type": "code",
      "source": [
        "valores_unicos_marital = bank['marital'].unique()\n",
        "valores_unicos_marital"
      ],
      "metadata": {
        "colab": {
          "base_uri": "https://localhost:8080/"
        },
        "id": "0cU9XHvAVF_h",
        "outputId": "c190cdc5-3d75-4874-94e1-6727ac7a8431"
      },
      "execution_count": 154,
      "outputs": [
        {
          "output_type": "execute_result",
          "data": {
            "text/plain": [
              "array(['married', 'single', 'divorced', None], dtype=object)"
            ]
          },
          "metadata": {},
          "execution_count": 154
        }
      ]
    },
    {
      "cell_type": "code",
      "source": [
        "# Filtrar filas donde 'marital' es nulo\n",
        "filas_con_nulos = bank[bank['marital'].isnull()]\n",
        "\n",
        "# Imprimir las filas con valores nulos en 'marital'\n",
        "print(filas_con_nulos)"
      ],
      "metadata": {
        "colab": {
          "base_uri": "https://localhost:8080/"
        },
        "id": "Fbp0E5uyV5xh",
        "outputId": "c08ff922-cfcc-481d-8c5b-0d8e76a335cd"
      },
      "execution_count": 155,
      "outputs": [
        {
          "output_type": "stream",
          "name": "stdout",
          "text": [
            "       age     job marital education default  balance housing loan   contact  \\\n",
            "6701  60.0  admin.    None   primary      no     -444      no  yes  cellular   \n",
            "\n",
            "      day month  duration  campaign  pdays  previous poutcome deposit  \n",
            "6701   16   jul       227         1     -1         0  unknown      no  \n"
          ]
        }
      ]
    },
    {
      "cell_type": "code",
      "source": [
        "filtered_marital_mode = marital_mode[\n",
        "    (marital_mode['job'] == 'admin.') &\n",
        "    (marital_mode['education'] == 'primary')]\n",
        "\n",
        "print(filtered_marital_mode)"
      ],
      "metadata": {
        "colab": {
          "base_uri": "https://localhost:8080/"
        },
        "id": "0jkc4ylGVOWa",
        "outputId": "4716d8ca-a8fd-4a42-9089-7d90a9c012b7"
      },
      "execution_count": 156,
      "outputs": [
        {
          "output_type": "stream",
          "name": "stdout",
          "text": [
            "        job   age education mode_marital\n",
            "11   admin.  26.0   primary       single\n",
            "22   admin.  30.0   primary     divorced\n",
            "32   admin.  34.0   primary     divorced\n",
            "35   admin.  35.0   primary       single\n",
            "41   admin.  37.0   primary      married\n",
            "44   admin.  38.0   primary      married\n",
            "48   admin.  39.0   primary      married\n",
            "52   admin.  40.0   primary      married\n",
            "56   admin.  41.0   primary      married\n",
            "59   admin.  42.0   primary      married\n",
            "64   admin.  44.0   primary     divorced\n",
            "68   admin.  45.0   primary     divorced\n",
            "72   admin.  46.0   primary     divorced\n",
            "76   admin.  47.0   primary       single\n",
            "80   admin.  48.0   primary      married\n",
            "87   admin.  51.0   primary      married\n",
            "91   admin.  52.0   primary      married\n",
            "94   admin.  53.0   primary      married\n",
            "97   admin.  54.0   primary      married\n",
            "101  admin.  55.0   primary      married\n",
            "105  admin.  56.0   primary      married\n",
            "107  admin.  57.0   primary      married\n",
            "110  admin.  58.0   primary      married\n",
            "113  admin.  59.0   primary      married\n",
            "115  admin.  60.0   primary         None\n",
            "125  admin.  67.0   primary      married\n",
            "126  admin.  72.0   primary      married\n"
          ]
        }
      ]
    },
    {
      "cell_type": "code",
      "source": [
        "#Teniendo en cuenta lo anterior se decide imputar el valor como married ya que las caracteristicas mas parecidas por edad, job y primary es ese valor.\n",
        "bank['marital'].fillna('married', inplace=True)"
      ],
      "metadata": {
        "colab": {
          "base_uri": "https://localhost:8080/"
        },
        "id": "WnVWuvoMWZB2",
        "outputId": "99423224-c808-4730-ffed-dbc57857e3c8"
      },
      "execution_count": 157,
      "outputs": [
        {
          "output_type": "stream",
          "name": "stderr",
          "text": [
            "<ipython-input-157-260d61e8fc46>:2: FutureWarning: A value is trying to be set on a copy of a DataFrame or Series through chained assignment using an inplace method.\n",
            "The behavior will change in pandas 3.0. This inplace method will never work because the intermediate object on which we are setting values always behaves as a copy.\n",
            "\n",
            "For example, when doing 'df[col].method(value, inplace=True)', try using 'df.method({col: value}, inplace=True)' or df[col] = df[col].method(value) instead, to perform the operation inplace on the original object.\n",
            "\n",
            "\n",
            "  bank['marital'].fillna('married', inplace=True)\n"
          ]
        }
      ]
    },
    {
      "cell_type": "code",
      "source": [
        "# Verificar los valores nulos después de la imputación\n",
        "print(\"Valores nulos en 'marital' después de imputar:\", bank['marital'].isnull().sum())"
      ],
      "metadata": {
        "colab": {
          "base_uri": "https://localhost:8080/"
        },
        "id": "GKnD_xhdW3AF",
        "outputId": "e84157d3-61f6-4ebd-b3bd-fc8185fd31f8"
      },
      "execution_count": 158,
      "outputs": [
        {
          "output_type": "stream",
          "name": "stdout",
          "text": [
            "Valores nulos en 'marital' después de imputar: 0\n"
          ]
        }
      ]
    },
    {
      "cell_type": "markdown",
      "source": [
        "###Valores en variables categoricas"
      ],
      "metadata": {
        "id": "UrqXv9Zp_tTO"
      }
    },
    {
      "cell_type": "code",
      "source": [
        "for column in bank.select_dtypes(include=['object']).columns:\n",
        "    print(bank[column].value_counts())"
      ],
      "metadata": {
        "colab": {
          "base_uri": "https://localhost:8080/"
        },
        "id": "v9TaAa7rtldB",
        "outputId": "1cfa80f7-eb6f-4afd-9a18-3ed325a8757a"
      },
      "execution_count": 159,
      "outputs": [
        {
          "output_type": "stream",
          "name": "stdout",
          "text": [
            "job\n",
            "management       2566\n",
            "blue-collar      1944\n",
            "technician       1823\n",
            "admin.           1334\n",
            "services          923\n",
            "retired           778\n",
            "self-employed     405\n",
            "student           360\n",
            "unemployed        357\n",
            "entrepreneur      328\n",
            "housemaid         274\n",
            "unknown            70\n",
            "Name: count, dtype: int64\n",
            "marital\n",
            "married     6354\n",
            "single      3517\n",
            "divorced    1291\n",
            "Name: count, dtype: int64\n",
            "education\n",
            "secondary    5478\n",
            "tertiary     3688\n",
            "primary      1500\n",
            "unknown       496\n",
            "Name: count, dtype: int64\n",
            "default\n",
            "no     10994\n",
            "yes      168\n",
            "Name: count, dtype: int64\n",
            "housing\n",
            "no     5881\n",
            "yes    5281\n",
            "Name: count, dtype: int64\n",
            "loan\n",
            "no     9702\n",
            "yes    1460\n",
            "Name: count, dtype: int64\n",
            "contact\n",
            "cellular     8042\n",
            "unknown      2346\n",
            "telephone     774\n",
            "Name: count, dtype: int64\n",
            "month\n",
            "may    2824\n",
            "aug    1519\n",
            "jul    1514\n",
            "jun    1222\n",
            "nov     943\n",
            "apr     923\n",
            "feb     776\n",
            "oct     392\n",
            "jan     344\n",
            "sep     319\n",
            "mar     276\n",
            "dec     110\n",
            "Name: count, dtype: int64\n",
            "poutcome\n",
            "unknown    8326\n",
            "failure    1228\n",
            "success    1071\n",
            "other       537\n",
            "Name: count, dtype: int64\n",
            "deposit\n",
            "no     5873\n",
            "yes    5289\n",
            "Name: count, dtype: int64\n"
          ]
        }
      ]
    },
    {
      "cell_type": "markdown",
      "source": [
        "# Seleccion de caracteristicas (Pearson)"
      ],
      "metadata": {
        "id": "u0rxC6P25pDe"
      }
    },
    {
      "cell_type": "code",
      "source": [
        "# Correlacion\n",
        "corr = bank.corr(numeric_only=True)"
      ],
      "metadata": {
        "id": "yIglcgZZ5sy9"
      },
      "execution_count": 160,
      "outputs": []
    },
    {
      "cell_type": "code",
      "source": [
        "# Visualitzar la matriu de correlació amb un mapa de calor\n",
        "\n",
        "plt.figure(figsize=(5, 4))\n",
        "sns.heatmap(corr, annot=True, cmap='winter', vmin=-1, vmax=1, center=0)\n",
        "plt.title('Matriz de Correlación')\n",
        "plt.show()\n"
      ],
      "metadata": {
        "colab": {
          "base_uri": "https://localhost:8080/",
          "height": 423
        },
        "id": "H8z1gLF95tP2",
        "outputId": "ff1199f9-aac9-4e31-beb9-d7f906d972f2"
      },
      "execution_count": 161,
      "outputs": [
        {
          "output_type": "display_data",
          "data": {
            "text/plain": [
              "<Figure size 500x400 with 2 Axes>"
            ],
            "image/png": "[encoded data removed]"
          },
          "metadata": {}
        }
      ]
    },
    {
      "cell_type": "markdown",
      "source": [
        "Se muestra una correlacion positiva de 0.51 entre las variables pdays (número de días que han pasado desde que se contactó al cliente por última vez en una campaña anterior) y previous (número de contactos realizados antes de esta campaña y para este cliente).\n",
        "\n",
        "Esto podria deberse a que aquellos clientes que han sido contactados en el pasado son menos propensos a ser contactados en campañas recientes, lo que resulta en un aumento de días desde el último contacto.\n"
      ],
      "metadata": {
        "id": "UyfSr27n7P3h"
      }
    },
    {
      "cell_type": "markdown",
      "source": [
        "# 6. Balance entre Clases"
      ],
      "metadata": {
        "id": "wVdIhLUsJ1Dp"
      }
    },
    {
      "cell_type": "code",
      "source": [
        "# Contar el número de suscripciones y no suscripciones en la variable 'deposit'\n",
        "num_depositos = bank[bank['deposit'] == 'yes'].shape[0]\n",
        "num_no_depositos = bank[bank['deposit'] == 'no'].shape[0]\n",
        "\n",
        "total = num_depositos + num_no_depositos\n",
        "percent_depositos = (num_depositos / total) * 100\n",
        "percent_no_depositos = (num_no_depositos / total) * 100\n",
        "print(f\"Porcentaje de depósitos: {percent_depositos:.2f}%\")\n",
        "print(f\"Porcentaje de no depósitos: {percent_no_depositos:.2f}%\")\n",
        "\n",
        "# Gráficas de barras\n",
        "plt.bar([\"Depósitos (%d)\" % num_depositos, \"No Depósitos (%d)\" % num_no_depositos],\n",
        "        [num_depositos, num_no_depositos],\n",
        "        color=[\"cyan\", \"red\"],\n",
        "        width=0.8)\n",
        "\n",
        "plt.ylabel(\"Número de Personas\")\n",
        "plt.title(\"Distribución de Clientes Según la contratación de Depósitos\")\n",
        "plt.show()"
      ],
      "metadata": {
        "colab": {
          "base_uri": "https://localhost:8080/",
          "height": 483
        },
        "id": "n1kWKSF6KCYd",
        "outputId": "70ebdf88-886d-48c8-c629-1853e08ee1a2"
      },
      "execution_count": 165,
      "outputs": [
        {
          "output_type": "stream",
          "name": "stdout",
          "text": [
            "Porcentaje de depósitos: 47.38%\n",
            "Porcentaje de no depósitos: 52.62%\n"
          ]
        },
        {
          "output_type": "display_data",
          "data": {
            "text/plain": [
              "<Figure size 640x480 with 1 Axes>"
            ],
            "image/png": "[encoded data removed]"
          },
          "metadata": {}
        }
      ]
    },
    {
      "cell_type": "markdown",
      "source": [
        "##OverSampler\n",
        "\n",
        "* No existe mucho desbalanceo entre clases pero se realiza un oversampler de creacion de muestras sinteticas en la clase \"Depositos\""
      ],
      "metadata": {
        "id": "tyvEFHOaZMXu"
      }
    },
    {
      "cell_type": "code",
      "source": [
        "from imblearn.over_sampling import RandomOverSampler\n",
        "\n",
        "# Características (X) y la variable objetivo (y)\n",
        "X = bank.drop(columns=['deposit'])\n",
        "y = bank['deposit']\n",
        "\n",
        "# Inicializar el oversampler\n",
        "ros = RandomOverSampler(random_state=42)\n",
        "\n",
        "# Aplicar oversampling\n",
        "X_resampled, y_resampled = ros.fit_resample(X, y)\n",
        "\n",
        "# Convertir de nuevo a un DataFrame\n",
        "bank_resampled = pd.DataFrame(X_resampled, columns=X.columns)\n",
        "bank_resampled['deposit'] = y_resampled\n",
        "\n",
        "# Verificar el nuevo balance de clases\n",
        "num_depositos_resampled = bank_resampled[bank_resampled['deposit'] == 'yes'].shape[0]\n",
        "num_no_depositos_resampled = bank_resampled[bank_resampled['deposit'] == 'no'].shape[0]\n",
        "\n",
        "print(\"Número de depósitos después de oversampling:\", num_depositos_resampled)\n",
        "print(\"Número de no depósitos después de oversampling:\", num_no_depositos_resampled)\n",
        "\n",
        "# Verificar los porcentajes\n",
        "total_resampled = num_depositos_resampled + num_no_depositos_resampled\n",
        "percent_depositos_resampled = (num_depositos_resampled / total_resampled) * 100\n",
        "percent_no_depositos_resampled = (num_no_depositos_resampled / total_resampled) * 100\n",
        "\n",
        "print(f\"Porcentaje de depósitos después de oversampling: {percent_depositos_resampled:.2f}%\")\n",
        "print(f\"Porcentaje de no depósitos después de oversampling: {percent_no_depositos_resampled:.2f}%\")"
      ],
      "metadata": {
        "colab": {
          "base_uri": "https://localhost:8080/"
        },
        "id": "Z3B-7PVeKCo0",
        "outputId": "a1c0a3d4-9791-4d8a-a73b-85340e0aff5b"
      },
      "execution_count": 166,
      "outputs": [
        {
          "output_type": "stream",
          "name": "stdout",
          "text": [
            "Número de depósitos después de oversampling: 5873\n",
            "Número de no depósitos después de oversampling: 5873\n",
            "Porcentaje de depósitos después de oversampling: 50.00%\n",
            "Porcentaje de no depósitos después de oversampling: 50.00%\n"
          ]
        }
      ]
    },
    {
      "cell_type": "code",
      "source": [
        "# Gráficas de barras\n",
        "plt.bar([\"Depósitos (%d)\" % num_depositos_resampled, \"No Depósitos (%d)\" % num_no_depositos_resampled],\n",
        "        [num_depositos_resampled, num_no_depositos_resampled],\n",
        "        color=[\"cyan\", \"red\"],\n",
        "        width=0.8)\n",
        "\n",
        "plt.ylabel(\"Número de Personas\")\n",
        "plt.title(\"Distribución de Clientes Según la contratación de Depósitos\")\n",
        "plt.show()"
      ],
      "metadata": {
        "colab": {
          "base_uri": "https://localhost:8080/",
          "height": 448
        },
        "id": "_e6_2kD0Z1Yb",
        "outputId": "e30269f4-4284-4526-c7f3-990b0f7b8a30"
      },
      "execution_count": 168,
      "outputs": [
        {
          "output_type": "display_data",
          "data": {
            "text/plain": [
              "<Figure size 640x480 with 1 Axes>"
            ],
            "image/png": "[encoded data removed]"
          },
          "metadata": {}
        }
      ]
    },
    {
      "cell_type": "markdown",
      "source": [
        "EDA con Sweetviz"
      ],
      "metadata": {
        "id": "ImKm5RGEtxqx"
      }
    },
    {
      "cell_type": "code",
      "source": [
        "report = sv.analyze(bank)\n",
        "report.show_html('EDA_report.html')"
      ],
      "metadata": {
        "colab": {
          "base_uri": "https://localhost:8080/",
          "height": 66,
          "referenced_widgets": [
            "83c02fb2139d40788ffe294075612185",
            "af6cb79f8278466a9ba726db6ffdae55",
            "5749f071e16e4294871d226e25e54ea2",
            "dde370da847a4bcfa1d54951afeb72b2",
            "205a19d4ffbd434082b2a655fbe10981",
            "194efcd655224fb8a31fe14ae506371b",
            "cc219c6857e644d9a0566d8928218c72",
            "b6fc7b4e3f874f06a58bf43148fc86c2",
            "f24ab585fbea41439f2b3e0559b588e6",
            "770d1428eb54415ea2eb49e3093b87fc",
            "86d40f5d3e6e4233ab9a773758614d50"
          ]
        },
        "id": "7v4_ABM9t1xy",
        "outputId": "72c1ba48-30df-465c-8db4-d5f5c6a198dc"
      },
      "execution_count": 163,
      "outputs": [
        {
          "output_type": "display_data",
          "data": {
            "text/plain": [
              "                                             |          | [  0%]   00:00 -> (? left)"
            ],
            "application/vnd.jupyter.widget-view+json": {
              "version_major": 2,
              "version_minor": 0,
              "model_id": "83c02fb2139d40788ffe294075612185"
            }
          },
          "metadata": {}
        },
        {
          "output_type": "stream",
          "name": "stdout",
          "text": [
            "Report EDA_report.html was generated! NOTEBOOK/COLAB USERS: the web browser MAY not pop up, regardless, the report IS saved in your notebook/colab files.\n"
          ]
        }
      ]
    },
    {
      "cell_type": "markdown",
      "source": [
        "#Conclusion"
      ],
      "metadata": {
        "id": "lN21ikiuaXCa"
      }
    },
    {
      "cell_type": "markdown",
      "source": [
        "El análisis exploratorio de datos (EDA) realizado sobre el dataset \"bank_dataset.csv\" ha permitido una comprensión profunda de las características de los clientes bancarios y su relación con la contratación de depósitos a plazo.\n",
        "\n",
        "Inicialmente, se realizó una inspección general del dataset, incluyendo la visualización de las primeras filas, la información general de las variables y estadísticas descriptivas. Este análisis inicial permitió identificar posibles valores atípicos en algunas variables numéricas, lo cual se confirmó posteriormente mediante la visualización de boxplots.\n",
        "\n",
        "Para garantizar la calidad de los datos, se realizó un tratamiento de valores faltantes en las variables 'age', 'marital' y 'education'. Se aplicó la imputación con la media o la moda, según correspondiera, para completar los valores faltantes, asegurando la integridad del dataset para el análisis posterior.\n",
        "\n",
        "Se procedió a analizar la correlación entre las variables numéricas utilizando un mapa de calor. Este análisis reveló una correlación positiva moderada entre 'pdays' (número de días desde el último contacto) y 'previous' (número de contactos previos). Este hallazgo sugiere que los clientes que han sido contactados en el pasado son menos propensos a ser contactados en campañas recientes, lo que resulta en un aumento de días desde el último contacto.\n",
        "\n",
        "En cuanto a la variable objetivo 'deposit', se observó un ligero desbalance entre las clases 'deposit' y 'no deposit'. Para abordar este desbalance, se aplicó la técnica de oversampling utilizando RandomOverSampler, creando muestras sintéticas de la clase minoritaria para equilibrar la distribución de las clases y mejorar el rendimiento de los modelos de predicción.\n",
        "\n",
        "Finalmente, se generó un informe de análisis exploratorio de datos (EDA) utilizando Sweetviz. Este informe interactivo proporciona una visualización detallada de las características del dataset, incluyendo análisis univariados y bivariados, facilitando la comprensión de las relaciones entre las variables y la identificación de patrones relevantes.\n",
        "\n",
        "En resumen, el EDA realizado ha proporcionado información valiosa sobre los clientes bancarios y su comportamiento en relación con la contratación de depósitos a plazo. Los hallazgos de este análisis, como la correlación entre variables y el desbalance de clases, son fundamentales para la toma de decisiones en estrategias de marketing y la predicción de la probabilidad de contratación de depósitos, contribuyendo a una mejor comprensión del mercado y la optimización de las campañas de marketing."
      ],
      "metadata": {
        "id": "ZyOzFZ8-aY7g"
      }
    }
  ]
}