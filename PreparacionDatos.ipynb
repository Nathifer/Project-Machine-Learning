{
  "nbformat": 4,
  "nbformat_minor": 0,
  "metadata": {
    "colab": {
      "provenance": []
    },
    "kernelspec": {
      "name": "python3",
      "display_name": "Python 3"
    },
    "language_info": {
      "name": "python"
    }
  },
  "cells": [
    {
      "cell_type": "markdown",
      "source": [
        "## Índice\n",
        "1. [Importación de librerías](#1-importación-de-librerías)\n",
        "2. [Carga del dataset](#2-carga-del-dataset)\n",
        "3. [Dividir el conjunto de datos](#3-dividir-el-conjunto-de-datos)\n",
        "4. [Codificar variables categóricas](#4-codificar-variables-categóricas)\n",
        "5. [Estandarizar las características](#5-estandarizar-las-características)\n",
        "6. [Reducir la dimensionalidad del conjunto de datos](#6-reducir-la-dimensionalidad-del-conjunto-de-datos)\n"
      ],
      "metadata": {
        "id": "MfDEjj4pY45y"
      }
    },
    {
      "cell_type": "code",
      "source": [
        "from google.colab import drive\n",
        "drive.mount('/content/drive')"
      ],
      "metadata": {
        "colab": {
          "base_uri": "https://localhost:8080/"
        },
        "id": "yUr6KDZfZ_qU",
        "outputId": "a4a1d5b5-a3b7-4c82-ef0e-e00b1d58fb3e"
      },
      "execution_count": null,
      "outputs": [
        {
          "output_type": "stream",
          "name": "stdout",
          "text": [
            "Mounted at /content/drive\n"
          ]
        }
      ]
    },
    {
      "cell_type": "markdown",
      "source": [
        "#Librerias"
      ],
      "metadata": {
        "id": "U1tfU2MuZV7G"
      }
    },
    {
      "cell_type": "code",
      "source": [
        "import pandas as pd\n",
        "import numpy as np\n",
        "from sklearn.model_selection import train_test_split\n",
        "from sklearn.preprocessing import LabelEncoder\n",
        "from sklearn.preprocessing import OneHotEncoder"
      ],
      "metadata": {
        "id": "nc5Tr7L5ZTX7"
      },
      "execution_count": null,
      "outputs": []
    },
    {
      "cell_type": "markdown",
      "source": [
        "#Dataset"
      ],
      "metadata": {
        "id": "cneoBwQzZ2OW"
      }
    },
    {
      "cell_type": "code",
      "source": [
        "bank = pd.read_csv('/content/drive/MyDrive/bank_dataset.csv')"
      ],
      "metadata": {
        "id": "QTGbiTg6Z49o"
      },
      "execution_count": null,
      "outputs": []
    },
    {
      "cell_type": "code",
      "source": [
        "bank.columns"
      ],
      "metadata": {
        "colab": {
          "base_uri": "https://localhost:8080/"
        },
        "id": "cnwxvWE4azcU",
        "outputId": "fed75cad-a79b-4ba8-a9bc-d44ae7dfd92f"
      },
      "execution_count": null,
      "outputs": [
        {
          "output_type": "execute_result",
          "data": {
            "text/plain": [
              "Index(['age', 'job', 'marital', 'education', 'default', 'balance', 'housing',\n",
              "       'loan', 'contact', 'day', 'month', 'duration', 'campaign', 'pdays',\n",
              "       'previous', 'poutcome', 'deposit'],\n",
              "      dtype='object')"
            ]
          },
          "metadata": {},
          "execution_count": 60
        }
      ]
    },
    {
      "cell_type": "code",
      "source": [
        "bank.head()"
      ],
      "metadata": {
        "colab": {
          "base_uri": "https://localhost:8080/",
          "height": 206
        },
        "id": "jZnZXrvbb0Cy",
        "outputId": "739a97ce-a6fe-4103-eeb8-293bb9098fbc"
      },
      "execution_count": null,
      "outputs": [
        {
          "output_type": "execute_result",
          "data": {
            "text/plain": [
              "    age         job  marital  education default  balance housing loan  \\\n",
              "0  59.0      admin.  married  secondary      no     2343     yes   no   \n",
              "1  56.0      admin.  married  secondary      no       45      no   no   \n",
              "2  41.0  technician  married  secondary      no     1270     yes   no   \n",
              "3  55.0    services  married  secondary      no     2476     yes   no   \n",
              "4  54.0      admin.  married   tertiary      no      184      no   no   \n",
              "\n",
              "   contact  day month  duration  campaign  pdays  previous poutcome deposit  \n",
              "0  unknown    5   may      1042         1     -1         0  unknown     yes  \n",
              "1  unknown    5   may      1467         1     -1         0  unknown     yes  \n",
              "2  unknown    5   may      1389         1     -1         0  unknown     yes  \n",
              "3  unknown    5   may       579         1     -1         0  unknown     yes  \n",
              "4  unknown    5   may       673         2     -1         0  unknown     yes  "
            ],
            "text/html": [
              "\n",
              "  <div id=\"df-28ac7255-a073-40ab-aeb3-1fa3e0b7b5d0\" class=\"colab-df-container\">\n",
              "    <div>\n",
              "<style scoped>\n",
              "    .dataframe tbody tr th:only-of-type {\n",
              "        vertical-align: middle;\n",
              "    }\n",
              "\n",
              "    .dataframe tbody tr th {\n",
              "        vertical-align: top;\n",
              "    }\n",
              "\n",
              "    .dataframe thead th {\n",
              "        text-align: right;\n",
              "    }\n",
              "</style>\n",
              "<table border=\"1\" class=\"dataframe\">\n",
              "  <thead>\n",
              "    <tr style=\"text-align: right;\">\n",
              "      <th></th>\n",
              "      <th>age</th>\n",
              "      <th>job</th>\n",
              "      <th>marital</th>\n",
              "      <th>education</th>\n",
              "      <th>default</th>\n",
              "      <th>balance</th>\n",
              "      <th>housing</th>\n",
              "      <th>loan</th>\n",
              "      <th>contact</th>\n",
              "      <th>day</th>\n",
              "      <th>month</th>\n",
              "      <th>duration</th>\n",
              "      <th>campaign</th>\n",
              "      <th>pdays</th>\n",
              "      <th>previous</th>\n",
              "      <th>poutcome</th>\n",
              "      <th>deposit</th>\n",
              "    </tr>\n",
              "  </thead>\n",
              "  <tbody>\n",
              "    <tr>\n",
              "      <th>0</th>\n",
              "      <td>59.0</td>\n",
              "      <td>admin.</td>\n",
              "      <td>married</td>\n",
              "      <td>secondary</td>\n",
              "      <td>no</td>\n",
              "      <td>2343</td>\n",
              "      <td>yes</td>\n",
              "      <td>no</td>\n",
              "      <td>unknown</td>\n",
              "      <td>5</td>\n",
              "      <td>may</td>\n",
              "      <td>1042</td>\n",
              "      <td>1</td>\n",
              "      <td>-1</td>\n",
              "      <td>0</td>\n",
              "      <td>unknown</td>\n",
              "      <td>yes</td>\n",
              "    </tr>\n",
              "    <tr>\n",
              "      <th>1</th>\n",
              "      <td>56.0</td>\n",
              "      <td>admin.</td>\n",
              "      <td>married</td>\n",
              "      <td>secondary</td>\n",
              "      <td>no</td>\n",
              "      <td>45</td>\n",
              "      <td>no</td>\n",
              "      <td>no</td>\n",
              "      <td>unknown</td>\n",
              "      <td>5</td>\n",
              "      <td>may</td>\n",
              "      <td>1467</td>\n",
              "      <td>1</td>\n",
              "      <td>-1</td>\n",
              "      <td>0</td>\n",
              "      <td>unknown</td>\n",
              "      <td>yes</td>\n",
              "    </tr>\n",
              "    <tr>\n",
              "      <th>2</th>\n",
              "      <td>41.0</td>\n",
              "      <td>technician</td>\n",
              "      <td>married</td>\n",
              "      <td>secondary</td>\n",
              "      <td>no</td>\n",
              "      <td>1270</td>\n",
              "      <td>yes</td>\n",
              "      <td>no</td>\n",
              "      <td>unknown</td>\n",
              "      <td>5</td>\n",
              "      <td>may</td>\n",
              "      <td>1389</td>\n",
              "      <td>1</td>\n",
              "      <td>-1</td>\n",
              "      <td>0</td>\n",
              "      <td>unknown</td>\n",
              "      <td>yes</td>\n",
              "    </tr>\n",
              "    <tr>\n",
              "      <th>3</th>\n",
              "      <td>55.0</td>\n",
              "      <td>services</td>\n",
              "      <td>married</td>\n",
              "      <td>secondary</td>\n",
              "      <td>no</td>\n",
              "      <td>2476</td>\n",
              "      <td>yes</td>\n",
              "      <td>no</td>\n",
              "      <td>unknown</td>\n",
              "      <td>5</td>\n",
              "      <td>may</td>\n",
              "      <td>579</td>\n",
              "      <td>1</td>\n",
              "      <td>-1</td>\n",
              "      <td>0</td>\n",
              "      <td>unknown</td>\n",
              "      <td>yes</td>\n",
              "    </tr>\n",
              "    <tr>\n",
              "      <th>4</th>\n",
              "      <td>54.0</td>\n",
              "      <td>admin.</td>\n",
              "      <td>married</td>\n",
              "      <td>tertiary</td>\n",
              "      <td>no</td>\n",
              "      <td>184</td>\n",
              "      <td>no</td>\n",
              "      <td>no</td>\n",
              "      <td>unknown</td>\n",
              "      <td>5</td>\n",
              "      <td>may</td>\n",
              "      <td>673</td>\n",
              "      <td>2</td>\n",
              "      <td>-1</td>\n",
              "      <td>0</td>\n",
              "      <td>unknown</td>\n",
              "      <td>yes</td>\n",
              "    </tr>\n",
              "  </tbody>\n",
              "</table>\n",
              "</div>\n",
              "    <div class=\"colab-df-buttons\">\n",
              "\n",
              "  <div class=\"colab-df-container\">\n",
              "    <button class=\"colab-df-convert\" onclick=\"convertToInteractive('df-28ac7255-a073-40ab-aeb3-1fa3e0b7b5d0')\"\n",
              "            title=\"Convert this dataframe to an interactive table.\"\n",
              "            style=\"display:none;\">\n",
              "\n",
              "  <svg xmlns=\"http://www.w3.org/2000/svg\" height=\"24px\" viewBox=\"0 -960 960 960\">\n",
              "    <path d=\"M120-120v-720h720v720H120Zm60-500h600v-160H180v160Zm220 220h160v-160H400v160Zm0 220h160v-160H400v160ZM180-400h160v-160H180v160Zm440 0h160v-160H620v160ZM180-180h160v-160H180v160Zm440 0h160v-160H620v160Z\"/>\n",
              "  </svg>\n",
              "    </button>\n",
              "\n",
              "  <style>\n",
              "    .colab-df-container {\n",
              "      display:flex;\n",
              "      gap: 12px;\n",
              "    }\n",
              "\n",
              "    .colab-df-convert {\n",
              "      background-color: #E8F0FE;\n",
              "      border: none;\n",
              "      border-radius: 50%;\n",
              "      cursor: pointer;\n",
              "      display: none;\n",
              "      fill: #1967D2;\n",
              "      height: 32px;\n",
              "      padding: 0 0 0 0;\n",
              "      width: 32px;\n",
              "    }\n",
              "\n",
              "    .colab-df-convert:hover {\n",
              "      background-color: #E2EBFA;\n",
              "      box-shadow: 0px 1px 2px rgba(60, 64, 67, 0.3), 0px 1px 3px 1px rgba(60, 64, 67, 0.15);\n",
              "      fill: #174EA6;\n",
              "    }\n",
              "\n",
              "    .colab-df-buttons div {\n",
              "      margin-bottom: 4px;\n",
              "    }\n",
              "\n",
              "    [theme=dark] .colab-df-convert {\n",
              "      background-color: #3B4455;\n",
              "      fill: #D2E3FC;\n",
              "    }\n",
              "\n",
              "    [theme=dark] .colab-df-convert:hover {\n",
              "      background-color: #434B5C;\n",
              "      box-shadow: 0px 1px 3px 1px rgba(0, 0, 0, 0.15);\n",
              "      filter: drop-shadow(0px 1px 2px rgba(0, 0, 0, 0.3));\n",
              "      fill: #FFFFFF;\n",
              "    }\n",
              "  </style>\n",
              "\n",
              "    <script>\n",
              "      const buttonEl =\n",
              "        document.querySelector('#df-28ac7255-a073-40ab-aeb3-1fa3e0b7b5d0 button.colab-df-convert');\n",
              "      buttonEl.style.display =\n",
              "        google.colab.kernel.accessAllowed ? 'block' : 'none';\n",
              "\n",
              "      async function convertToInteractive(key) {\n",
              "        const element = document.querySelector('#df-28ac7255-a073-40ab-aeb3-1fa3e0b7b5d0');\n",
              "        const dataTable =\n",
              "          await google.colab.kernel.invokeFunction('convertToInteractive',\n",
              "                                                    [key], {});\n",
              "        if (!dataTable) return;\n",
              "\n",
              "        const docLinkHtml = 'Like what you see? Visit the ' +\n",
              "          '<a target=\"_blank\" href=https://colab.research.google.com/notebooks/data_table.ipynb>data table notebook</a>'\n",
              "          + ' to learn more about interactive tables.';\n",
              "        element.innerHTML = '';\n",
              "        dataTable['output_type'] = 'display_data';\n",
              "        await google.colab.output.renderOutput(dataTable, element);\n",
              "        const docLink = document.createElement('div');\n",
              "        docLink.innerHTML = docLinkHtml;\n",
              "        element.appendChild(docLink);\n",
              "      }\n",
              "    </script>\n",
              "  </div>\n",
              "\n",
              "\n",
              "<div id=\"df-3134d9c1-a7f1-49b0-9234-5e789227ea7c\">\n",
              "  <button class=\"colab-df-quickchart\" onclick=\"quickchart('df-3134d9c1-a7f1-49b0-9234-5e789227ea7c')\"\n",
              "            title=\"Suggest charts\"\n",
              "            style=\"display:none;\">\n",
              "\n",
              "<svg xmlns=\"http://www.w3.org/2000/svg\" height=\"24px\"viewBox=\"0 0 24 24\"\n",
              "     width=\"24px\">\n",
              "    <g>\n",
              "        <path d=\"M19 3H5c-1.1 0-2 .9-2 2v14c0 1.1.9 2 2 2h14c1.1 0 2-.9 2-2V5c0-1.1-.9-2-2-2zM9 17H7v-7h2v7zm4 0h-2V7h2v10zm4 0h-2v-4h2v4z\"/>\n",
              "    </g>\n",
              "</svg>\n",
              "  </button>\n",
              "\n",
              "<style>\n",
              "  .colab-df-quickchart {\n",
              "      --bg-color: #E8F0FE;\n",
              "      --fill-color: #1967D2;\n",
              "      --hover-bg-color: #E2EBFA;\n",
              "      --hover-fill-color: #174EA6;\n",
              "      --disabled-fill-color: #AAA;\n",
              "      --disabled-bg-color: #DDD;\n",
              "  }\n",
              "\n",
              "  [theme=dark] .colab-df-quickchart {\n",
              "      --bg-color: #3B4455;\n",
              "      --fill-color: #D2E3FC;\n",
              "      --hover-bg-color: #434B5C;\n",
              "      --hover-fill-color: #FFFFFF;\n",
              "      --disabled-bg-color: #3B4455;\n",
              "      --disabled-fill-color: #666;\n",
              "  }\n",
              "\n",
              "  .colab-df-quickchart {\n",
              "    background-color: var(--bg-color);\n",
              "    border: none;\n",
              "    border-radius: 50%;\n",
              "    cursor: pointer;\n",
              "    display: none;\n",
              "    fill: var(--fill-color);\n",
              "    height: 32px;\n",
              "    padding: 0;\n",
              "    width: 32px;\n",
              "  }\n",
              "\n",
              "  .colab-df-quickchart:hover {\n",
              "    background-color: var(--hover-bg-color);\n",
              "    box-shadow: 0 1px 2px rgba(60, 64, 67, 0.3), 0 1px 3px 1px rgba(60, 64, 67, 0.15);\n",
              "    fill: var(--button-hover-fill-color);\n",
              "  }\n",
              "\n",
              "  .colab-df-quickchart-complete:disabled,\n",
              "  .colab-df-quickchart-complete:disabled:hover {\n",
              "    background-color: var(--disabled-bg-color);\n",
              "    fill: var(--disabled-fill-color);\n",
              "    box-shadow: none;\n",
              "  }\n",
              "\n",
              "  .colab-df-spinner {\n",
              "    border: 2px solid var(--fill-color);\n",
              "    border-color: transparent;\n",
              "    border-bottom-color: var(--fill-color);\n",
              "    animation:\n",
              "      spin 1s steps(1) infinite;\n",
              "  }\n",
              "\n",
              "  @keyframes spin {\n",
              "    0% {\n",
              "      border-color: transparent;\n",
              "      border-bottom-color: var(--fill-color);\n",
              "      border-left-color: var(--fill-color);\n",
              "    }\n",
              "    20% {\n",
              "      border-color: transparent;\n",
              "      border-left-color: var(--fill-color);\n",
              "      border-top-color: var(--fill-color);\n",
              "    }\n",
              "    30% {\n",
              "      border-color: transparent;\n",
              "      border-left-color: var(--fill-color);\n",
              "      border-top-color: var(--fill-color);\n",
              "      border-right-color: var(--fill-color);\n",
              "    }\n",
              "    40% {\n",
              "      border-color: transparent;\n",
              "      border-right-color: var(--fill-color);\n",
              "      border-top-color: var(--fill-color);\n",
              "    }\n",
              "    60% {\n",
              "      border-color: transparent;\n",
              "      border-right-color: var(--fill-color);\n",
              "    }\n",
              "    80% {\n",
              "      border-color: transparent;\n",
              "      border-right-color: var(--fill-color);\n",
              "      border-bottom-color: var(--fill-color);\n",
              "    }\n",
              "    90% {\n",
              "      border-color: transparent;\n",
              "      border-bottom-color: var(--fill-color);\n",
              "    }\n",
              "  }\n",
              "</style>\n",
              "\n",
              "  <script>\n",
              "    async function quickchart(key) {\n",
              "      const quickchartButtonEl =\n",
              "        document.querySelector('#' + key + ' button');\n",
              "      quickchartButtonEl.disabled = true;  // To prevent multiple clicks.\n",
              "      quickchartButtonEl.classList.add('colab-df-spinner');\n",
              "      try {\n",
              "        const charts = await google.colab.kernel.invokeFunction(\n",
              "            'suggestCharts', [key], {});\n",
              "      } catch (error) {\n",
              "        console.error('Error during call to suggestCharts:', error);\n",
              "      }\n",
              "      quickchartButtonEl.classList.remove('colab-df-spinner');\n",
              "      quickchartButtonEl.classList.add('colab-df-quickchart-complete');\n",
              "    }\n",
              "    (() => {\n",
              "      let quickchartButtonEl =\n",
              "        document.querySelector('#df-3134d9c1-a7f1-49b0-9234-5e789227ea7c button');\n",
              "      quickchartButtonEl.style.display =\n",
              "        google.colab.kernel.accessAllowed ? 'block' : 'none';\n",
              "    })();\n",
              "  </script>\n",
              "</div>\n",
              "\n",
              "    </div>\n",
              "  </div>\n"
            ],
            "application/vnd.google.colaboratory.intrinsic+json": {
              "type": "dataframe",
              "variable_name": "bank",
              "summary": "{\n  \"name\": \"bank\",\n  \"rows\": 11162,\n  \"fields\": [\n    {\n      \"column\": \"age\",\n      \"properties\": {\n        \"dtype\": \"number\",\n        \"std\": 11.914934487732625,\n        \"min\": 18.0,\n        \"max\": 95.0,\n        \"num_unique_values\": 76,\n        \"samples\": [\n          54.0,\n          47.0,\n          30.0\n        ],\n        \"semantic_type\": \"\",\n        \"description\": \"\"\n      }\n    },\n    {\n      \"column\": \"job\",\n      \"properties\": {\n        \"dtype\": \"category\",\n        \"num_unique_values\": 12,\n        \"samples\": [\n          \"self-employed\",\n          \"unknown\",\n          \"admin.\"\n        ],\n        \"semantic_type\": \"\",\n        \"description\": \"\"\n      }\n    },\n    {\n      \"column\": \"marital\",\n      \"properties\": {\n        \"dtype\": \"category\",\n        \"num_unique_values\": 3,\n        \"samples\": [\n          \"married\",\n          \"single\",\n          \"divorced\"\n        ],\n        \"semantic_type\": \"\",\n        \"description\": \"\"\n      }\n    },\n    {\n      \"column\": \"education\",\n      \"properties\": {\n        \"dtype\": \"category\",\n        \"num_unique_values\": 4,\n        \"samples\": [\n          \"tertiary\",\n          \"unknown\",\n          \"secondary\"\n        ],\n        \"semantic_type\": \"\",\n        \"description\": \"\"\n      }\n    },\n    {\n      \"column\": \"default\",\n      \"properties\": {\n        \"dtype\": \"category\",\n        \"num_unique_values\": 2,\n        \"samples\": [\n          \"yes\",\n          \"no\"\n        ],\n        \"semantic_type\": \"\",\n        \"description\": \"\"\n      }\n    },\n    {\n      \"column\": \"balance\",\n      \"properties\": {\n        \"dtype\": \"number\",\n        \"std\": 3225,\n        \"min\": -6847,\n        \"max\": 81204,\n        \"num_unique_values\": 3805,\n        \"samples\": [\n          3026,\n          1792\n        ],\n        \"semantic_type\": \"\",\n        \"description\": \"\"\n      }\n    },\n    {\n      \"column\": \"housing\",\n      \"properties\": {\n        \"dtype\": \"category\",\n        \"num_unique_values\": 2,\n        \"samples\": [\n          \"no\",\n          \"yes\"\n        ],\n        \"semantic_type\": \"\",\n        \"description\": \"\"\n      }\n    },\n    {\n      \"column\": \"loan\",\n      \"properties\": {\n        \"dtype\": \"category\",\n        \"num_unique_values\": 2,\n        \"samples\": [\n          \"yes\",\n          \"no\"\n        ],\n        \"semantic_type\": \"\",\n        \"description\": \"\"\n      }\n    },\n    {\n      \"column\": \"contact\",\n      \"properties\": {\n        \"dtype\": \"category\",\n        \"num_unique_values\": 3,\n        \"samples\": [\n          \"unknown\",\n          \"cellular\"\n        ],\n        \"semantic_type\": \"\",\n        \"description\": \"\"\n      }\n    },\n    {\n      \"column\": \"day\",\n      \"properties\": {\n        \"dtype\": \"number\",\n        \"std\": 8,\n        \"min\": 1,\n        \"max\": 31,\n        \"num_unique_values\": 31,\n        \"samples\": [\n          10,\n          27\n        ],\n        \"semantic_type\": \"\",\n        \"description\": \"\"\n      }\n    },\n    {\n      \"column\": \"month\",\n      \"properties\": {\n        \"dtype\": \"category\",\n        \"num_unique_values\": 12,\n        \"samples\": [\n          \"apr\",\n          \"mar\"\n        ],\n        \"semantic_type\": \"\",\n        \"description\": \"\"\n      }\n    },\n    {\n      \"column\": \"duration\",\n      \"properties\": {\n        \"dtype\": \"number\",\n        \"std\": 347,\n        \"min\": 2,\n        \"max\": 3881,\n        \"num_unique_values\": 1428,\n        \"samples\": [\n          597,\n          346\n        ],\n        \"semantic_type\": \"\",\n        \"description\": \"\"\n      }\n    },\n    {\n      \"column\": \"campaign\",\n      \"properties\": {\n        \"dtype\": \"number\",\n        \"std\": 2,\n        \"min\": 1,\n        \"max\": 63,\n        \"num_unique_values\": 36,\n        \"samples\": [\n          31,\n          7\n        ],\n        \"semantic_type\": \"\",\n        \"description\": \"\"\n      }\n    },\n    {\n      \"column\": \"pdays\",\n      \"properties\": {\n        \"dtype\": \"number\",\n        \"std\": 108,\n        \"min\": -1,\n        \"max\": 854,\n        \"num_unique_values\": 472,\n        \"samples\": [\n          294,\n          148\n        ],\n        \"semantic_type\": \"\",\n        \"description\": \"\"\n      }\n    },\n    {\n      \"column\": \"previous\",\n      \"properties\": {\n        \"dtype\": \"number\",\n        \"std\": 2,\n        \"min\": 0,\n        \"max\": 58,\n        \"num_unique_values\": 34,\n        \"samples\": [\n          30,\n          14\n        ],\n        \"semantic_type\": \"\",\n        \"description\": \"\"\n      }\n    },\n    {\n      \"column\": \"poutcome\",\n      \"properties\": {\n        \"dtype\": \"category\",\n        \"num_unique_values\": 4,\n        \"samples\": [\n          \"other\",\n          \"success\"\n        ],\n        \"semantic_type\": \"\",\n        \"description\": \"\"\n      }\n    },\n    {\n      \"column\": \"deposit\",\n      \"properties\": {\n        \"dtype\": \"category\",\n        \"num_unique_values\": 2,\n        \"samples\": [\n          \"no\",\n          \"yes\"\n        ],\n        \"semantic_type\": \"\",\n        \"description\": \"\"\n      }\n    }\n  ]\n}"
            }
          },
          "metadata": {},
          "execution_count": 61
        }
      ]
    },
    {
      "cell_type": "code",
      "source": [
        "# Ver los valores únicos de cada columna categórica\n",
        "categorical_columns = ['job', 'marital', 'education', 'default', 'housing', 'loan', 'contact', 'poutcome', 'deposit']\n",
        "\n",
        "for column in categorical_columns:\n",
        "    unique_values = bank[column].unique()\n",
        "    print(f\"Valores únicos en '{column}': {unique_values}\\n\")"
      ],
      "metadata": {
        "colab": {
          "base_uri": "https://localhost:8080/"
        },
        "id": "KYT3r93oezBe",
        "outputId": "b138c5e3-841f-4bff-8769-c8e848ee530e"
      },
      "execution_count": null,
      "outputs": [
        {
          "output_type": "stream",
          "name": "stdout",
          "text": [
            "Valores únicos en 'job': ['admin.' 'technician' 'services' 'management' 'retired' 'blue-collar'\n",
            " 'unemployed' 'entrepreneur' 'housemaid' 'unknown' 'self-employed'\n",
            " 'student']\n",
            "\n",
            "Valores únicos en 'marital': ['married' 'single' 'divorced' nan]\n",
            "\n",
            "Valores únicos en 'education': ['secondary' 'tertiary' 'primary' 'unknown' nan]\n",
            "\n",
            "Valores únicos en 'default': ['no' 'yes']\n",
            "\n",
            "Valores únicos en 'housing': ['yes' 'no']\n",
            "\n",
            "Valores únicos en 'loan': ['no' 'yes']\n",
            "\n",
            "Valores únicos en 'contact': ['unknown' 'cellular' 'telephone']\n",
            "\n",
            "Valores únicos en 'poutcome': ['unknown' 'other' 'failure' 'success']\n",
            "\n",
            "Valores únicos en 'deposit': ['yes' 'no']\n",
            "\n"
          ]
        }
      ]
    },
    {
      "cell_type": "code",
      "source": [
        "age_mean = bank.groupby(['job', 'marital', 'education'])['age'].mean().reset_index(name='mean_age')\n",
        "print(age_mean)\n",
        "# Calcular la moda (la categoría más frecuente) de 'marital' para cada combinación\n",
        "marital_mode = bank.groupby(['job', 'age', 'education'])['marital'].agg(lambda x: x.mode()[0] if not x.mode().empty else None).reset_index(name='mode_marital')\n",
        "print(marital_mode)\n",
        "# Calcular la moda de 'education' para cada combinación\n",
        "education_mode = bank.groupby(['job', 'age', 'marital'])['education'].agg(lambda x: x.mode()[0] if not x.mode().empty else None).reset_index(name='mode_education')\n",
        "print(education_mode)"
      ],
      "metadata": {
        "colab": {
          "base_uri": "https://localhost:8080/"
        },
        "id": "_6OBzcCVpXBa",
        "outputId": "ca802ee1-e850-4556-c0c0-f88347ec1e0e"
      },
      "execution_count": 78,
      "outputs": [
        {
          "output_type": "stream",
          "name": "stdout",
          "text": [
            "         job   marital  education  mean_age\n",
            "0     admin.  divorced    primary  0.106142\n",
            "1     admin.  divorced  secondary  0.164997\n",
            "2     admin.  divorced   tertiary -0.355484\n",
            "3     admin.  divorced    unknown  0.735632\n",
            "4     admin.   married    primary  0.707655\n",
            "..       ...       ...        ...       ...\n",
            "127  unknown   married   tertiary  0.685273\n",
            "128  unknown   married    unknown  1.077356\n",
            "129  unknown    single  secondary -0.621269\n",
            "130  unknown    single   tertiary -0.250569\n",
            "131  unknown    single    unknown -0.308856\n",
            "\n",
            "[132 rows x 4 columns]\n",
            "          job       age  education mode_marital\n",
            "0      admin. -1.782329  secondary       single\n",
            "1      admin. -1.698397  secondary       single\n",
            "2      admin. -1.614465  secondary       single\n",
            "3      admin. -1.614465   tertiary       single\n",
            "4      admin. -1.530533  secondary       single\n",
            "...       ...       ...        ...          ...\n",
            "1370  unknown  1.574953    unknown      married\n",
            "1371  unknown  1.994613    unknown      married\n",
            "1372  unknown  2.162477   tertiary      married\n",
            "1373  unknown  3.001797    unknown      married\n",
            "1374  unknown  3.085729    unknown      married\n",
            "\n",
            "[1375 rows x 4 columns]\n",
            "          job       age  marital mode_education\n",
            "0      admin. -1.782329   single      secondary\n",
            "1      admin. -1.698397   single      secondary\n",
            "2      admin. -1.614465   single      secondary\n",
            "3      admin. -1.530533  married      secondary\n",
            "4      admin. -1.530533   single      secondary\n",
            "...       ...       ...      ...            ...\n",
            "1133  unknown  1.574953  married        unknown\n",
            "1134  unknown  1.994613  married        unknown\n",
            "1135  unknown  2.162477  married       tertiary\n",
            "1136  unknown  3.001797  married        unknown\n",
            "1137  unknown  3.085729  married        unknown\n",
            "\n",
            "[1138 rows x 4 columns]\n"
          ]
        }
      ]
    },
    {
      "cell_type": "code",
      "source": [
        "# Imputar la media para 'age'\n",
        "for index, row in bank[bank['age'].isnull()].iterrows():\n",
        "    mean_age = age_mean.loc[\n",
        "        (age_mean['job'] == row['job']) &\n",
        "        (age_mean['marital'] == row['marital']) &\n",
        "        (age_mean['education'] == row['education']) , 'mean_age'\n",
        "    ]\n",
        "\n",
        "    if not mean_age.empty:\n",
        "        bank.at[index, 'age'] = mean_age.values[0]\n",
        "\n",
        "# Imputar la moda para 'education'\n",
        "for index, row in bank[bank['education'].isnull()].iterrows():\n",
        "    mode_education = education_mode.loc[\n",
        "        (education_mode['job'] == row['job']) &\n",
        "        (education_mode['age'] == row['age']) &\n",
        "        (education_mode['marital'] == row['marital']), 'mode_education'\n",
        "    ]\n",
        "\n",
        "    if not mode_education.empty:\n",
        "        bank.at[index, 'education'] = mode_education.values[0]\n",
        "\n",
        "# Imputar la moda para 'marital'\n",
        "for index, row in bank[bank['marital'].isnull()].iterrows():\n",
        "    mode_marital = marital_mode.loc[\n",
        "        (marital_mode['job'] == row['job']) &\n",
        "        (marital_mode['age'] == row['age']) &\n",
        "        (marital_mode['education'] == row['education']), 'mode_marital'\n",
        "    ]\n",
        "\n",
        "    if not mode_marital.empty:\n",
        "        bank.at[index, 'marital'] = mode_marital.values[0]\n",
        ""
      ],
      "metadata": {
        "id": "HCoVf-sIpaSE"
      },
      "execution_count": 79,
      "outputs": []
    },
    {
      "cell_type": "markdown",
      "source": [
        "#Division del conjunto de datos"
      ],
      "metadata": {
        "id": "oZJXD86XZ5cS"
      }
    },
    {
      "cell_type": "code",
      "source": [
        "# Definir X e Y\n",
        "X = bank.drop('deposit', axis=1)  # Todas las columnas excepto 'deposit'\n",
        "Y = bank['deposit']  # La variable objetivo 'deposit'\n",
        "\n",
        "# Dividir los datos en conjuntos de entrenamiento y prueba (80% train, 20% test)\n",
        "X_train, X_test, Y_train, Y_test = train_test_split(X, Y, test_size=0.2, random_state=42)\n",
        "\n",
        "# Verificar el tamaño de cada conjunto\n",
        "print(f\"Tamaño del conjunto de entrenamiento (X): {X_train.shape}\")\n",
        "print(f\"Tamaño del conjunto de prueba (X): {X_test.shape}\")\n",
        "print(f\"Tamaño del conjunto de entrenamiento (Y): {Y_train.shape}\")\n",
        "print(f\"Tamaño del conjunto de prueba (Y): {Y_test.shape}\")"
      ],
      "metadata": {
        "colab": {
          "base_uri": "https://localhost:8080/"
        },
        "id": "nM6G-0KsZ8Aq",
        "outputId": "07b48de6-530d-4359-ed6a-65003a64aaa5"
      },
      "execution_count": 81,
      "outputs": [
        {
          "output_type": "stream",
          "name": "stdout",
          "text": [
            "Tamaño del conjunto de entrenamiento (X): (8929, 16)\n",
            "Tamaño del conjunto de prueba (X): (2233, 16)\n",
            "Tamaño del conjunto de entrenamiento (Y): (8929,)\n",
            "Tamaño del conjunto de prueba (Y): (2233,)\n"
          ]
        }
      ]
    },
    {
      "cell_type": "markdown",
      "source": [
        "#Codificación variables categoricas"
      ],
      "metadata": {
        "id": "g0VJ3jvHbI0q"
      }
    },
    {
      "cell_type": "code",
      "source": [
        "#Columnas Binarias\n",
        "binary_columns = ['deposit', 'default', 'housing', 'loan']\n",
        "\n",
        "# Aplicar Label Encoding a las columnas binarias\n",
        "label_encoder = LabelEncoder()\n",
        "\n",
        "for column in binary_columns:\n",
        "    bank[column] = label_encoder.fit_transform(bank[column])\n",
        "    print(f\"Valores únicos en '{column}' después de Label Encoding: {bank[column].unique()}\\n\")\n",
        "\n",
        "# Ver el dataframe codificado\n",
        "print(bank.head())"
      ],
      "metadata": {
        "colab": {
          "base_uri": "https://localhost:8080/"
        },
        "id": "VxP_OVpKfK2t",
        "outputId": "ed5909ee-b315-470c-cf7b-cabe6561bf3c"
      },
      "execution_count": 82,
      "outputs": [
        {
          "output_type": "stream",
          "name": "stdout",
          "text": [
            "Valores únicos en 'deposit' después de Label Encoding: [1 0]\n",
            "\n",
            "Valores únicos en 'default' después de Label Encoding: [0 1]\n",
            "\n",
            "Valores únicos en 'housing' después de Label Encoding: [1 0]\n",
            "\n",
            "Valores únicos en 'loan' después de Label Encoding: [0 1]\n",
            "\n",
            "        age         job  marital  education  default   balance  housing  loan  \\\n",
            "0  1.491021      admin.  married  secondary        0  0.252525        1     0   \n",
            "1  1.239224      admin.  married  secondary        0 -0.459974        0     0   \n",
            "2 -0.019756  technician  married  secondary        0 -0.080160        1     0   \n",
            "3  1.155292    services  married  secondary        0  0.293762        1     0   \n",
            "4  1.071360      admin.  married   tertiary        0 -0.416876        0     0   \n",
            "\n",
            "   contact  day month  duration  campaign     pdays  previous poutcome  \\\n",
            "0  unknown    5   may  1.930226 -0.554168 -0.481184         0  unknown   \n",
            "1  unknown    5   may  3.154612 -0.554168 -0.481184         0  unknown   \n",
            "2  unknown    5   may  2.929901 -0.554168 -0.481184         0  unknown   \n",
            "3  unknown    5   may  0.596366 -0.554168 -0.481184         0  unknown   \n",
            "4  unknown    5   may  0.867171 -0.186785 -0.481184         0  unknown   \n",
            "\n",
            "   deposit  \n",
            "0        1  \n",
            "1        1  \n",
            "2        1  \n",
            "3        1  \n",
            "4        1  \n"
          ]
        }
      ]
    },
    {
      "cell_type": "code",
      "source": [
        "#cat_features = [\"job\", \"marital\", \"default\", \"housing\", \"loan\"]\n",
        "\n",
        "#data = pd.get_dummies(bank, columns = cat_features)\n",
        "#data\n",
        "\n",
        "# Initializing the OneHotEncoder\n",
        "encoder = OneHotEncoder(sparse_output=False)\n",
        "\n",
        "# Fitting the encoder and transforming the data\n",
        "one_hot_encoded_array = encoder.fit_transform(bank[[\"poutcome\", \"marital\", \"education\", \"contact\"]])\n",
        "\n",
        "# The transformed data is an array, so we need to convert it back to a DataFrame\n",
        "one_hot_encoded_df = pd.DataFrame(one_hot_encoded_array, columns=encoder.get_feature_names_out([\"poutcome\", \"marital\", \"education\", \"contact\"]))\n",
        "\n",
        "# Concatenating the one-hot encoded columns to the original DataFrame\n",
        "final_df = pd.concat([bank, one_hot_encoded_df], axis=1).drop([\"poutcome\", \"marital\", \"education\", \"contact\"], axis=1)\n",
        "\n",
        "print(\"\\nOne-hot encoded data:\\n\", final_df)"
      ],
      "metadata": {
        "colab": {
          "base_uri": "https://localhost:8080/"
        },
        "id": "17t8W50aW5G-",
        "outputId": "04622528-5728-44c0-b2c2-db957ac617bb"
      },
      "execution_count": 83,
      "outputs": [
        {
          "output_type": "stream",
          "name": "stdout",
          "text": [
            "\n",
            "One-hot encoded data:\n",
            "             age          job  default   balance  housing  loan  day month  \\\n",
            "0      1.491021       admin.        0  0.252525        1     0    5   may   \n",
            "1      1.239224       admin.        0 -0.459974        0     0    5   may   \n",
            "2     -0.019756   technician        0 -0.080160        1     0    5   may   \n",
            "3      1.155292     services        0  0.293762        1     0    5   may   \n",
            "4      1.071360       admin.        0 -0.416876        0     0    5   may   \n",
            "...         ...          ...      ...       ...      ...   ...  ...   ...   \n",
            "11157 -0.691213  blue-collar        0 -0.473616        1     0   20   apr   \n",
            "11158 -0.187620     services        0 -0.246658        0     0   16   jun   \n",
            "11159 -0.775145   technician        0 -0.464934        0     0   19   aug   \n",
            "11160  0.148108   technician        0 -0.473926        0     1    8   may   \n",
            "11161 -0.607281   technician        0 -0.473926        0     0    9   jul   \n",
            "\n",
            "       duration  campaign  ...  marital_married  marital_single  marital_None  \\\n",
            "0      1.930226 -0.554168  ...              1.0             0.0           0.0   \n",
            "1      3.154612 -0.554168  ...              1.0             0.0           0.0   \n",
            "2      2.929901 -0.554168  ...              1.0             0.0           0.0   \n",
            "3      0.596366 -0.554168  ...              1.0             0.0           0.0   \n",
            "4      0.867171 -0.186785  ...              1.0             0.0           0.0   \n",
            "...         ...       ...  ...              ...             ...           ...   \n",
            "11157 -0.331287 -0.554168  ...              0.0             1.0           0.0   \n",
            "11158 -0.832564  0.547981  ...              1.0             0.0           0.0   \n",
            "11159 -0.622258 -0.186785  ...              0.0             1.0           0.0   \n",
            "11160 -1.045752 -0.186785  ...              1.0             0.0           0.0   \n",
            "11161  0.737530 -0.554168  ...              1.0             0.0           0.0   \n",
            "\n",
            "       education_primary  education_secondary  education_tertiary  \\\n",
            "0                    0.0                  1.0                 0.0   \n",
            "1                    0.0                  1.0                 0.0   \n",
            "2                    0.0                  1.0                 0.0   \n",
            "3                    0.0                  1.0                 0.0   \n",
            "4                    0.0                  0.0                 1.0   \n",
            "...                  ...                  ...                 ...   \n",
            "11157                1.0                  0.0                 0.0   \n",
            "11158                0.0                  1.0                 0.0   \n",
            "11159                0.0                  1.0                 0.0   \n",
            "11160                0.0                  1.0                 0.0   \n",
            "11161                0.0                  1.0                 0.0   \n",
            "\n",
            "       education_unknown  contact_cellular  contact_telephone  contact_unknown  \n",
            "0                    0.0               0.0                0.0              1.0  \n",
            "1                    0.0               0.0                0.0              1.0  \n",
            "2                    0.0               0.0                0.0              1.0  \n",
            "3                    0.0               0.0                0.0              1.0  \n",
            "4                    0.0               0.0                0.0              1.0  \n",
            "...                  ...               ...                ...              ...  \n",
            "11157                0.0               1.0                0.0              0.0  \n",
            "11158                0.0               0.0                0.0              1.0  \n",
            "11159                0.0               1.0                0.0              0.0  \n",
            "11160                0.0               1.0                0.0              0.0  \n",
            "11161                0.0               1.0                0.0              0.0  \n",
            "\n",
            "[11162 rows x 28 columns]\n"
          ]
        }
      ]
    },
    {
      "cell_type": "code",
      "source": [
        "final_df.columns"
      ],
      "metadata": {
        "colab": {
          "base_uri": "https://localhost:8080/"
        },
        "id": "tbwlCcNwdHN4",
        "outputId": "a8436b57-dcf2-4b9e-abf7-80004bf73745"
      },
      "execution_count": 84,
      "outputs": [
        {
          "output_type": "execute_result",
          "data": {
            "text/plain": [
              "Index(['age', 'job', 'default', 'balance', 'housing', 'loan', 'day', 'month',\n",
              "       'duration', 'campaign', 'pdays', 'previous', 'deposit',\n",
              "       'poutcome_failure', 'poutcome_other', 'poutcome_success',\n",
              "       'poutcome_unknown', 'marital_divorced', 'marital_married',\n",
              "       'marital_single', 'marital_None', 'education_primary',\n",
              "       'education_secondary', 'education_tertiary', 'education_unknown',\n",
              "       'contact_cellular', 'contact_telephone', 'contact_unknown'],\n",
              "      dtype='object')"
            ]
          },
          "metadata": {},
          "execution_count": 84
        }
      ]
    },
    {
      "cell_type": "markdown",
      "source": [
        "#Estandarizacion de datos"
      ],
      "metadata": {
        "id": "u23hvGIBfzDU"
      }
    },
    {
      "cell_type": "code",
      "source": [
        "from sklearn.preprocessing import StandardScaler\n",
        "\n",
        "# Seleccionar las columnas numéricas\n",
        "numerical_columns = ['age', 'balance', 'duration', 'pdays', 'campaign']\n",
        "\n",
        "# Aplicar StandardScaler solo a esas columnas\n",
        "scaler = StandardScaler()\n",
        "final_df[numerical_columns] = scaler.fit_transform(final_df[numerical_columns])\n",
        "\n",
        "# Ver el resultado\n",
        "print(final_df.head())\n"
      ],
      "metadata": {
        "colab": {
          "base_uri": "https://localhost:8080/"
        },
        "id": "bJvgfqozf19P",
        "outputId": "3b4c27a5-e648-48e5-d33e-8e1a808943cd"
      },
      "execution_count": 85,
      "outputs": [
        {
          "output_type": "stream",
          "name": "stdout",
          "text": [
            "        age         job  default   balance  housing  loan  day month  \\\n",
            "0  1.491692      admin.        0  0.252525        1     0    5   may   \n",
            "1  1.239803      admin.        0 -0.459974        0     0    5   may   \n",
            "2 -0.019646  technician        0 -0.080160        1     0    5   may   \n",
            "3  1.155839    services        0  0.293762        1     0    5   may   \n",
            "4  1.071876      admin.        0 -0.416876        0     0    5   may   \n",
            "\n",
            "   duration  campaign  ...  marital_married  marital_single  marital_None  \\\n",
            "0  1.930226 -0.554168  ...              1.0             0.0           0.0   \n",
            "1  3.154612 -0.554168  ...              1.0             0.0           0.0   \n",
            "2  2.929901 -0.554168  ...              1.0             0.0           0.0   \n",
            "3  0.596366 -0.554168  ...              1.0             0.0           0.0   \n",
            "4  0.867171 -0.186785  ...              1.0             0.0           0.0   \n",
            "\n",
            "   education_primary  education_secondary  education_tertiary  \\\n",
            "0                0.0                  1.0                 0.0   \n",
            "1                0.0                  1.0                 0.0   \n",
            "2                0.0                  1.0                 0.0   \n",
            "3                0.0                  1.0                 0.0   \n",
            "4                0.0                  0.0                 1.0   \n",
            "\n",
            "   education_unknown  contact_cellular  contact_telephone  contact_unknown  \n",
            "0                0.0               0.0                0.0              1.0  \n",
            "1                0.0               0.0                0.0              1.0  \n",
            "2                0.0               0.0                0.0              1.0  \n",
            "3                0.0               0.0                0.0              1.0  \n",
            "4                0.0               0.0                0.0              1.0  \n",
            "\n",
            "[5 rows x 28 columns]\n"
          ]
        }
      ]
    },
    {
      "cell_type": "code",
      "source": [
        "final_df.columns"
      ],
      "metadata": {
        "colab": {
          "base_uri": "https://localhost:8080/"
        },
        "id": "K2fxYxH0kC3w",
        "outputId": "b0a65dba-2df7-4249-a35e-e4bb9b72835d"
      },
      "execution_count": 86,
      "outputs": [
        {
          "output_type": "execute_result",
          "data": {
            "text/plain": [
              "Index(['age', 'job', 'default', 'balance', 'housing', 'loan', 'day', 'month',\n",
              "       'duration', 'campaign', 'pdays', 'previous', 'deposit',\n",
              "       'poutcome_failure', 'poutcome_other', 'poutcome_success',\n",
              "       'poutcome_unknown', 'marital_divorced', 'marital_married',\n",
              "       'marital_single', 'marital_None', 'education_primary',\n",
              "       'education_secondary', 'education_tertiary', 'education_unknown',\n",
              "       'contact_cellular', 'contact_telephone', 'contact_unknown'],\n",
              "      dtype='object')"
            ]
          },
          "metadata": {},
          "execution_count": 86
        }
      ]
    },
    {
      "cell_type": "markdown",
      "source": [
        "#Reducción de dimensionalidad"
      ],
      "metadata": {
        "id": "EP74oUeigSg2"
      }
    },
    {
      "cell_type": "code",
      "source": [
        "from sklearn.decomposition import PCA\n",
        "\n",
        "# Aplicar PCA para reducir a 2 componentes principales\n",
        "pca = PCA(n_components=0.9)\n",
        "pca_data = pca.fit_transform(final_df[numerical_columns])\n",
        "pca_data.shape\n"
      ],
      "metadata": {
        "colab": {
          "base_uri": "https://localhost:8080/"
        },
        "id": "pxGLw6D8gR4C",
        "outputId": "f461a38d-f2c0-4f05-b157-5b658627555d"
      },
      "execution_count": 91,
      "outputs": [
        {
          "output_type": "execute_result",
          "data": {
            "text/plain": [
              "(11162, 5)"
            ]
          },
          "metadata": {},
          "execution_count": 91
        }
      ]
    }
  ]
}